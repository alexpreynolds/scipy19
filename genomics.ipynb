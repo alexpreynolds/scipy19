{
 "cells": [
  {
   "cell_type": "markdown",
   "metadata": {},
   "source": [
    "# Genomic Data: Collaboration and Reproducibility\n",
    "\n",
    "**Note**: This notebook uses local data that hasen't been fully released yet. But you can take a look at a similar view at http://higlass.io/l/?d=XfVVVzrtTjOEXZJ0vTHlnA\n",
    "\n",
    "In this notebook we demonstrate how to work with and extend public HiGlass figures for collaboration and reproducibility."
   ]
  },
  {
   "cell_type": "code",
   "execution_count": null,
   "metadata": {},
   "outputs": [],
   "source": [
    "HOST = 'localhost'\n",
    "PORT = 8004\n",
    "\n",
    "# If using Binder, set this to the current host: https://hub.{domain}/user-{username}-{hash}\n",
    "LOCATION = ''\n",
    "\n",
    "if LOCATION:\n",
    "    # Use the jupyterhub proxy address to reach our server\n",
    "    API_URL = LOCATION.replace('/lab', '') + f'/proxy/{PORT}/api/v1'\n",
    "else:\n",
    "    API_URL = f'http://{HOST}:{PORT}/api/v1'\n",
    "\n",
    "%load_ext autoreload\n",
    "%autoreload 2"
   ]
  },
  {
   "cell_type": "markdown",
   "metadata": {},
   "source": [
    "### Look at an external view config"
   ]
  },
  {
   "cell_type": "code",
   "execution_count": null,
   "metadata": {},
   "outputs": [],
   "source": [
    "from higlass import ViewConf\n",
    "from higlass.viewer import HiGlassDisplay\n",
    "\n",
    "viewconf = ViewConf.from_link('http://localhost:8001/l/?d=micro-c-hff-h1')\n",
    "HiGlassDisplay(viewconf=viewconf.to_dict())"
   ]
  },
  {
   "cell_type": "markdown",
   "metadata": {},
   "source": [
    "### Extend the remote figure with a new track"
   ]
  },
  {
   "cell_type": "code",
   "execution_count": null,
   "metadata": {},
   "outputs": [],
   "source": [
    "from higlass import Server, Track\n",
    "from utils import bed2ddb\n",
    "\n",
    "new_viewconf = ViewConf.from_dict(viewconf.to_dict())\n",
    "\n",
    "# First we create a new track\n",
    "hffc6_dots_tileset = bed2ddb('data/dots.HFFc6_uC_pooled.all_dots.mapq_30.txt.bed2ddb', 'HFFc6 Dot Calls')\n",
    "\n",
    "# And start a local server for serving this track\n",
    "server = Server([hffc6_dots_tileset], host=HOST, port=PORT)\n",
    "server.start()\n",
    "\n",
    "# We grab the first view from the remote view config\n",
    "hff_view = new_viewconf.views[0]\n",
    "\n",
    "# Finally, we add the track to the existing view\n",
    "hff_view.add_track(\n",
    "    Track('2d-rectangle-domains', tileset=hffc6_dots_tileset, server=API_URL)\n",
    ")\n",
    "\n",
    "HiGlassDisplay(viewconf=new_viewconf.to_dict())"
   ]
  },
  {
   "cell_type": "markdown",
   "metadata": {},
   "source": [
    "### Export a figure\n",
    "\n",
    "Export view as SVG via the view header: _cog wheel icon_ > `Export views as SVG`"
   ]
  },
  {
   "cell_type": "code",
   "execution_count": null,
   "metadata": {},
   "outputs": [],
   "source": []
  }
 ],
 "metadata": {
  "kernelspec": {
   "display_name": "Python 3",
   "language": "python",
   "name": "python3"
  },
  "language_info": {
   "codemirror_mode": {
    "name": "ipython",
    "version": 3
   },
   "file_extension": ".py",
   "mimetype": "text/x-python",
   "name": "python",
   "nbconvert_exporter": "python",
   "pygments_lexer": "ipython3",
   "version": "3.7.3"
  }
 },
 "nbformat": 4,
 "nbformat_minor": 2
}

{
 "cells": [
  {
   "cell_type": "markdown",
   "metadata": {},
   "source": [
    "# Temperature - Basic Usage of HiGlass\n",
    "\n",
    "In this notebook we will talk through the main aspects of the API and how to get started visualizing data"
   ]
  },
  {
   "cell_type": "code",
   "execution_count": 1,
   "metadata": {},
   "outputs": [],
   "source": [
    "%load_ext autoreload\n",
    "%autoreload 2"
   ]
  },
  {
   "cell_type": "markdown",
   "metadata": {},
   "source": [
    "### Load data\n",
    "\n",
    "We optained the data from the National Centers for Environmental Information: https://www.ncei.noaa.gov/access/search/data-search/global-hourly"
   ]
  },
  {
   "cell_type": "code",
   "execution_count": 2,
   "metadata": {},
   "outputs": [],
   "source": [
    "from utils import get_ncei_temperature_data_as_array\n",
    "\n",
    "temps_by_city, min_max_dates = get_ncei_temperature_data_as_array({\n",
    "    \"corpus_christi\": {\n",
    "        \"files\": [\"data/1796105.csv.gz\"],\n",
    "        \"station\": 72251012924\n",
    "    },\n",
    "    \"boston\": {\n",
    "        \"files\": [\n",
    "            \"data/1577451.csv.gz\",\n",
    "            \"data/1577468.csv.gz\",\n",
    "            \"data/1573178.csv.gz\"\n",
    "        ],\n",
    "        \"station\": 72509014739\n",
    "    },\n",
    "    \"fairbanks\": {\n",
    "        \"files\": [\"data/1707246.csv.gz\"],\n",
    "        \"station\": 70261026411\n",
    "    }\n",
    "})"
   ]
  },
  {
   "cell_type": "code",
   "execution_count": 3,
   "metadata": {},
   "outputs": [
    {
     "name": "stdout",
     "output_type": "stream",
     "text": [
      "Temperature measurements from 1953-01-01 00:00:00 to 2018-01-01 23:54:00\n",
      "Temperatures in Corpus Christi range from -15.5°C to 48.9°C\n",
      "Temperatures in Boston range from -24.4°C to 38.9°C\n",
      "Temperatures in Fairbanks range from -52.2°C to 34.4°C\n"
     ]
    }
   ],
   "source": [
    "import numpy as np\n",
    "\n",
    "print('Temperature measurements from {} to {}'.format(*min_max_dates))\n",
    "\n",
    "print('Temperatures in Corpus Christi range from {}°C to {}°C'.format(\n",
    "    np.nanmin(temps_by_city['corpus_christi']), np.nanmax(temps_by_city['corpus_christi'])\n",
    "))\n",
    "\n",
    "print('Temperatures in Boston range from {}°C to {}°C'.format(\n",
    "    np.nanmin(temps_by_city['boston']), np.nanmax(temps_by_city['boston'])\n",
    "))\n",
    "\n",
    "print('Temperatures in Fairbanks range from {}°C to {}°C'.format(\n",
    "    np.nanmin(temps_by_city['fairbanks']), np.nanmax(temps_by_city['fairbanks'])\n",
    "))"
   ]
  },
  {
   "cell_type": "markdown",
   "metadata": {},
   "source": [
    "### Create tilesets"
   ]
  },
  {
   "cell_type": "code",
   "execution_count": 29,
   "metadata": {},
   "outputs": [],
   "source": [
    "from higlass.tilesets import Tileset\n",
    "from clodius.tiles.npvector import tileset_info, tiles_wrapper\n",
    "\n",
    "# Sorry we need a micro fix 😬\n",
    "def fixed_tileset_info(uuid):\n",
    "    info = tileset_info(uuid)\n",
    "    info['tile_size'] = info['bins_per_dimension']\n",
    "    return info\n",
    "\n",
    "tileset_corpus_christi = Tileset(\n",
    "    tileset_info=lambda: fixed_tileset_info(temps_by_city['corpus_christi']),\n",
    "    tiles=lambda tile_ids: tiles_wrapper(temps_by_city['corpus_christi'], tile_ids),\n",
    "    name='Corpus Christi'\n",
    ")\n",
    "\n",
    "tileset_boston = Tileset(\n",
    "    tileset_info=lambda: fixed_tileset_info(temps_by_city['boston']),\n",
    "    tiles=lambda tile_ids: tiles_wrapper(temps_by_city['boston'], tile_ids),\n",
    "    name='Boston'\n",
    ")\n",
    "\n",
    "tileset_fairbanks = Tileset(\n",
    "    tileset_info=lambda: fixed_tileset_info(temps_by_city['fairbanks']),\n",
    "    tiles=lambda tile_ids: tiles_wrapper(temps_by_city['fairbanks'], tile_ids),\n",
    "    name='Fairbanks'\n",
    ")"
   ]
  },
  {
   "cell_type": "markdown",
   "metadata": {},
   "source": [
    "### Create HiGlass view"
   ]
  },
  {
   "cell_type": "code",
   "execution_count": 5,
   "metadata": {},
   "outputs": [
    {
     "data": {
      "application/vnd.jupyter.widget-view+json": {
       "model_id": "e4b48df3d4a64a0682bf72f3f821b27d",
       "version_major": 2,
       "version_minor": 0
      },
      "text/plain": [
       "HiGlassDisplay(hg_options={'isDarkTheme': False}, viewconf={'editable': True, 'views': [{'uid': 'HLV58RkBRgy4E…"
      ]
     },
     "metadata": {},
     "output_type": "display_data"
    }
   ],
   "source": [
    "import higlass\n",
    "from higlass.client import Track, View\n",
    "\n",
    "top_axis = Track('top-axis')\n",
    "\n",
    "track_definition = {\n",
    "    'track_type': 'horizontal-line',\n",
    "    'height': 100\n",
    "}\n",
    "\n",
    "corpus_christi_line = Track(tileset=tileset_corpus_christi, **track_definition)\n",
    "boston_line = Track(tileset=tileset_boston, **track_definition)\n",
    "fairbanks_line = Track(tileset=tileset_fairbanks, **track_definition)\n",
    "\n",
    "display, server, viewconf = higlass.display([\n",
    "    View([top_axis, corpus_christi_line, boston_line, fairbanks_line])\n",
    "])\n",
    "\n",
    "display"
   ]
  },
  {
   "cell_type": "markdown",
   "metadata": {},
   "source": [
    "### Customize appearance of tracks"
   ]
  },
  {
   "cell_type": "code",
   "execution_count": 6,
   "metadata": {},
   "outputs": [
    {
     "data": {
      "application/vnd.jupyter.widget-view+json": {
       "model_id": "22613b02845a4eaf9bf23ab6615ea95a",
       "version_major": 2,
       "version_minor": 0
      },
      "text/plain": [
       "HiGlassDisplay(hg_options={'isDarkTheme': False}, viewconf={'editable': True, 'views': [{'uid': 'Bw3aBEyrQhWKY…"
      ]
     },
     "metadata": {},
     "output_type": "display_data"
    }
   ],
   "source": [
    "from copy import deepcopy\n",
    "\n",
    "## Important change ##########\n",
    "new_track_definition = {\n",
    "    'options': {\n",
    "        'labelPosition': 'hidden',\n",
    "        'axisPositionHorizontal': 'hidden',\n",
    "        'lineStrokeWidth': 2,\n",
    "        'valueScaleMin': -50,\n",
    "        'valueScaleMax': +50,\n",
    "        'constIndicators': [\n",
    "            { 'value':   0, 'label':   '0', 'labelSize': 8, 'opacity': 0.3 },\n",
    "            { 'value':  20, 'label':  '20', 'labelSize': 8, 'opacity': 0.3 },\n",
    "            { 'value': -20, 'label': '-20', 'labelSize': 8, 'opacity': 0.3 },\n",
    "            { 'value':  40, 'label':  '40', 'labelSize': 8, 'opacity': 0.3 },\n",
    "            { 'value': -40, 'label': '-40', 'labelSize': 8, 'opacity': 0.3 },\n",
    "        ],\n",
    "    }\n",
    "}\n",
    "new_track_definition.update(track_definition)\n",
    "##############################\n",
    "\n",
    "track_def_cc = deepcopy(new_track_definition)\n",
    "track_def_cc['options']['lineStrokeColor'] = 'orange'\n",
    "corpus_christi_line = Track(tileset=tileset_corpus_christi, **track_def_cc)\n",
    "\n",
    "track_def_bos = deepcopy(new_track_definition)\n",
    "track_def_bos['options']['lineStrokeColor'] = 'mediumseagreen'\n",
    "boston_line = Track(tileset=tileset_boston, **track_def_bos)\n",
    "\n",
    "track_def_fb = deepcopy(new_track_definition)\n",
    "track_def_fb['options']['lineStrokeColor'] = 'blue'\n",
    "fairbanks_line = Track(tileset=tileset_fairbanks, **track_def_fb)\n",
    "\n",
    "display, server, viewconf = higlass.display([\n",
    "    View([top_axis, corpus_christi_line, boston_line, fairbanks_line])\n",
    "])\n",
    "\n",
    "display"
   ]
  },
  {
   "cell_type": "markdown",
   "metadata": {},
   "source": [
    "### Combine tracks"
   ]
  },
  {
   "cell_type": "code",
   "execution_count": 7,
   "metadata": {},
   "outputs": [
    {
     "data": {
      "application/vnd.jupyter.widget-view+json": {
       "model_id": "f8c5a8e6d16045b7a52e48306ecf83ef",
       "version_major": 2,
       "version_minor": 0
      },
      "text/plain": [
       "HiGlassDisplay(hg_options={'isDarkTheme': False}, viewconf={'editable': True, 'views': [{'uid': 'PbE7EIh0QFWQt…"
      ]
     },
     "metadata": {},
     "output_type": "display_data"
    }
   ],
   "source": [
    "from higlass.client import CombinedTrack\n",
    "\n",
    "## Important change ##########\n",
    "combined_track = CombinedTrack(\n",
    "    position='top',\n",
    "    height=200,\n",
    "    tracks=[corpus_christi_line, boston_line, fairbanks_line]\n",
    ")\n",
    "##############################\n",
    "\n",
    "display, server, viewconf = higlass.display([\n",
    "    View([top_axis, combined_track])\n",
    "])\n",
    "\n",
    "display"
   ]
  },
  {
   "cell_type": "markdown",
   "metadata": {},
   "source": [
    "### Adjust view"
   ]
  },
  {
   "cell_type": "code",
   "execution_count": 20,
   "metadata": {},
   "outputs": [
    {
     "data": {
      "application/vnd.jupyter.widget-view+json": {
       "model_id": "7c5f05282e7d4603b5d7d7e0a660973e",
       "version_major": 2,
       "version_minor": 0
      },
      "text/plain": [
       "HiGlassDisplay(hg_options={'isDarkTheme': False}, viewconf={'editable': True, 'views': [{'uid': 'b4JGm_tkQ4KoT…"
      ]
     },
     "metadata": {},
     "output_type": "display_data"
    }
   ],
   "source": [
    "corpus_christi_line = Track(tileset=tileset_corpus_christi, **track_def_cc)\n",
    "boston_line = Track(tileset=tileset_boston, **track_def_bos)\n",
    "fairbanks_line = Track(tileset=tileset_fairbanks, **track_def_fb)\n",
    "\n",
    "combined_track = CombinedTrack(\n",
    "    position='top',\n",
    "    height=200,\n",
    "    tracks=[corpus_christi_line, boston_line, fairbanks_line]\n",
    ")\n",
    "\n",
    "## Important change ##########\n",
    "view_definition = {\n",
    "    'initialXDomain': [max_size * 0.48, max_size * 0.52],\n",
    "    'tracks': [top_axis, combined_track]\n",
    "}\n",
    "##############################\n",
    "\n",
    "display, _, _ = higlass.display([View(**view_definition)])\n",
    "\n",
    "display"
   ]
  },
  {
   "cell_type": "markdown",
   "metadata": {},
   "source": [
    "### Multiple Views"
   ]
  },
  {
   "cell_type": "code",
   "execution_count": 40,
   "metadata": {},
   "outputs": [
    {
     "data": {
      "application/vnd.jupyter.widget-view+json": {
       "model_id": "68269af2de3e45beb163290013b8c674",
       "version_major": 2,
       "version_minor": 0
      },
      "text/plain": [
       "HiGlassDisplay(hg_options={'isDarkTheme': False}, viewconf={'editable': True, 'views': [{'uid': 'ZUVGLTGuTt-vH…"
      ]
     },
     "metadata": {},
     "output_type": "display_data"
    }
   ],
   "source": [
    "heatmap_settings = {\n",
    "    'track_type': 'horizontal-1d-heatmap',\n",
    "    'position': 'top',\n",
    "    'height': 48,\n",
    "    'options': {\n",
    "        'colorRange': ['#003aa8', '#3379ff', '#dddddd', '#ff3d33', '#990700'],\n",
    "        'valueScaleMin': -20,\n",
    "        'valueScaleMax': +20,\n",
    "    }\n",
    "}\n",
    "\n",
    "corpus_christi_heatmap = Track(tileset=tileset_corpus_christi, **heatmap_settings)\n",
    "boston_heatmap = Track(tileset=tileset_boston, **heatmap_settings)\n",
    "fairbanks_heatmap = Track(tileset=tileset_fairbanks, **heatmap_settings)\n",
    "\n",
    "max_size = temps_by_city['corpus_christi'].size\n",
    "\n",
    "## Important change ##########\n",
    "view_a = {\n",
    "    'x': 0,\n",
    "    'y': 0,\n",
    "    'initialXDomain': [540000, 566000],\n",
    "    'tracks': [top_axis, corpus_christi_heatmap, boston_heatmap, fairbanks_heatmap]\n",
    "}\n",
    "view_b = {\n",
    "    'x': 0,\n",
    "    'y': 1,\n",
    "    'initialXDomain': [540000, 566000],\n",
    "    'tracks': [top_axis, combined_track]\n",
    "}\n",
    "##############################\n",
    "\n",
    "display, _, viewconf = higlass.display([View(**view_a), View(**view_b)])\n",
    "\n",
    "display"
   ]
  },
  {
   "cell_type": "markdown",
   "metadata": {},
   "source": [
    "☝️ Winters 2014/15, 2015/16, and 2016/17"
   ]
  },
  {
   "cell_type": "code",
   "execution_count": null,
   "metadata": {},
   "outputs": [],
   "source": []
  }
 ],
 "metadata": {
  "kernelspec": {
   "display_name": "Python 3",
   "language": "python",
   "name": "python3"
  },
  "language_info": {
   "codemirror_mode": {
    "name": "ipython",
    "version": 3
   },
   "file_extension": ".py",
   "mimetype": "text/x-python",
   "name": "python",
   "nbconvert_exporter": "python",
   "pygments_lexer": "ipython3",
   "version": "3.7.3"
  }
 },
 "nbformat": 4,
 "nbformat_minor": 2
}

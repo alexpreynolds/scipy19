{
 "cells": [
  {
   "cell_type": "markdown",
   "metadata": {},
   "source": [
    "# Temperature - Basic Usage of HiGlass\n",
    "\n",
    "In this notebook we will talk through the main aspects of the API and how to get started visualizing data"
   ]
  },
  {
   "cell_type": "code",
   "execution_count": null,
   "metadata": {},
   "outputs": [],
   "source": [
    "HOST = 'localhost'\n",
    "PORT = 8001\n",
    "\n",
    "# If using Binder, set this to the current host: https://hub.{domain}/user-{username}-{hash}\n",
    "LOCATION = ''\n",
    "\n",
    "if LOCATION:\n",
    "    # Use the jupyterhub proxy address to reach our server\n",
    "    API_URL = LOCATION.replace('/lab', '') + f'/proxy/{PORT}/api/v1'\n",
    "else:\n",
    "    API_URL = f'http://{HOST}:{PORT}/api/v1'\n",
    "\n",
    "%load_ext autoreload\n",
    "%autoreload 2"
   ]
  },
  {
   "cell_type": "markdown",
   "metadata": {},
   "source": [
    "### Load data\n",
    "\n",
    "We optained the data from the National Centers for Environmental Information: https://www.ncei.noaa.gov/access/search/data-search/global-hourly"
   ]
  },
  {
   "cell_type": "code",
   "execution_count": null,
   "metadata": {},
   "outputs": [],
   "source": [
    "from utils import get_ncei_temperature_data_as_array\n",
    "\n",
    "temps_by_city, min_max_dates = get_ncei_temperature_data_as_array({\n",
    "    \"corpus_christi\": {\n",
    "        \"files\": [\"data/1796105.csv.gz\"],\n",
    "        \"station\": 72251012924\n",
    "    },\n",
    "    \"boston\": {\n",
    "        \"files\": [\n",
    "            \"data/1577451.csv.gz\",\n",
    "            \"data/1577468.csv.gz\",\n",
    "            \"data/1573178.csv.gz\"\n",
    "        ],\n",
    "        \"station\": 72509014739\n",
    "    },\n",
    "    \"fairbanks\": {\n",
    "        \"files\": [\"data/1707246.csv.gz\"],\n",
    "        \"station\": 70261026411\n",
    "    }\n",
    "})"
   ]
  },
  {
   "cell_type": "markdown",
   "metadata": {},
   "source": [
    "### Create tilesets"
   ]
  },
  {
   "cell_type": "code",
   "execution_count": null,
   "metadata": {},
   "outputs": [],
   "source": [
    "from higlass import Tileset\n",
    "from clodius.tiles.npvector import tileset_info, tiles_wrapper\n",
    "\n",
    "tileset_corpus_christi = Tileset(\n",
    "    tileset_info=lambda: tileset_info(temps_by_city['corpus_christi']),\n",
    "    tiles=lambda tile_ids: tiles_wrapper(temps_by_city['corpus_christi'], tile_ids),\n",
    "    name='Corpus Christi',\n",
    "    \n",
    ")\n",
    "\n",
    "tileset_boston = Tileset(\n",
    "    tileset_info=lambda: tileset_info(temps_by_city['boston']),\n",
    "    tiles=lambda tile_ids: tiles_wrapper(temps_by_city['boston'], tile_ids),\n",
    "    name='Boston'\n",
    ")\n",
    "\n",
    "tileset_fairbanks = Tileset(\n",
    "    tileset_info=lambda: tileset_info(temps_by_city['fairbanks']),\n",
    "    tiles=lambda tile_ids: tiles_wrapper(temps_by_city['fairbanks'], tile_ids),\n",
    "    name='Fairbanks'\n",
    ")"
   ]
  },
  {
   "cell_type": "markdown",
   "metadata": {},
   "source": [
    "### Create HiGlass view"
   ]
  },
  {
   "cell_type": "code",
   "execution_count": null,
   "metadata": {},
   "outputs": [],
   "source": [
    "from higlass import Track, View, display\n",
    "\n",
    "track_definition = {\n",
    "    'track_type': 'horizontal-line',\n",
    "    'height': 100,\n",
    "    'server': API_URL,\n",
    "}\n",
    "\n",
    "corpus_christi_line = Track(tileset=tileset_corpus_christi, **track_definition)\n",
    "boston_line = Track(tileset=tileset_boston, **track_definition)\n",
    "fairbanks_line = Track(tileset=tileset_fairbanks, **track_definition)\n",
    "\n",
    "top_axis = Track('top-axis')\n",
    "\n",
    "widget, server, viewconf = display(\n",
    "    [View([top_axis, corpus_christi_line, boston_line, fairbanks_line])],\n",
    "    host=HOST,\n",
    "    server_port=PORT\n",
    ")\n",
    "\n",
    "widget"
   ]
  },
  {
   "cell_type": "markdown",
   "metadata": {},
   "source": [
    "### Customize appearance of tracks"
   ]
  },
  {
   "cell_type": "code",
   "execution_count": null,
   "metadata": {},
   "outputs": [],
   "source": [
    "from copy import deepcopy\n",
    "\n",
    "## Important change ##########\n",
    "new_track_definition = {\n",
    "    'options': {\n",
    "        'lineStrokeWidth': 2,\n",
    "        'valueScaleMin': -50,\n",
    "        'valueScaleMax': +50,\n",
    "        'constIndicators': [\n",
    "            { 'value': -40, 'label': '-40', 'labelSize': 8, 'opacity': 0.3 },\n",
    "            { 'value': -20, 'label': '-20', 'labelSize': 8, 'opacity': 0.3 },\n",
    "            { 'value':   0, 'label':   '0', 'labelSize': 8, 'opacity': 0.3 },\n",
    "            { 'value':  20, 'label':  '20', 'labelSize': 8, 'opacity': 0.3 },\n",
    "            { 'value':  40, 'label':  '40', 'labelSize': 8, 'opacity': 0.3 },\n",
    "        ],\n",
    "        'axisPositionHorizontal': 'hidden',\n",
    "        'labelColor': '[glyph-color]',\n",
    "        'labelTextOpacity': 1.0,\n",
    "        'labelPosition': 'topRight',\n",
    "    }\n",
    "}\n",
    "new_track_definition.update(track_definition)\n",
    "##############################\n",
    "\n",
    "track_def_cc = deepcopy(new_track_definition)\n",
    "track_def_cc['options']['lineStrokeColor'] = 'orange'\n",
    "corpus_christi_line = Track(tileset=tileset_corpus_christi, **track_def_cc)\n",
    "\n",
    "track_def_bos = deepcopy(new_track_definition)\n",
    "track_def_bos['options']['lineStrokeColor'] = 'mediumseagreen'\n",
    "boston_line = Track(tileset=tileset_boston, **track_def_bos)\n",
    "\n",
    "track_def_fb = deepcopy(new_track_definition)\n",
    "track_def_fb['options']['lineStrokeColor'] = 'blue'\n",
    "fairbanks_line = Track(tileset=tileset_fairbanks, **track_def_fb)\n",
    "\n",
    "widget, _, _ = display(\n",
    "    [View([top_axis, corpus_christi_line, boston_line, fairbanks_line])],\n",
    "    host=HOST,\n",
    "    server_port=PORT\n",
    ")\n",
    "\n",
    "widget"
   ]
  },
  {
   "cell_type": "markdown",
   "metadata": {},
   "source": [
    "### Combine tracks"
   ]
  },
  {
   "cell_type": "code",
   "execution_count": null,
   "metadata": {},
   "outputs": [],
   "source": [
    "from higlass import CombinedTrack\n",
    "\n",
    "corpus_christi_line = corpus_christi_line.change_options(labelRightMargin=116)\n",
    "boston_line = boston_line.change_options(labelRightMargin=64)\n",
    "\n",
    "## Important change ##########\n",
    "combined_track = CombinedTrack(\n",
    "    position='top',\n",
    "    height=200,\n",
    "    tracks=[corpus_christi_line, boston_line, fairbanks_line]\n",
    ")\n",
    "##############################\n",
    "\n",
    "widget, _, _ = display(\n",
    "    [View([top_axis, combined_track])],\n",
    "    host=HOST,\n",
    "    server_port=PORT\n",
    ")\n",
    "\n",
    "widget"
   ]
  },
  {
   "cell_type": "markdown",
   "metadata": {},
   "source": [
    "### Different rendering paradigms for the same data"
   ]
  },
  {
   "cell_type": "code",
   "execution_count": null,
   "metadata": {},
   "outputs": [],
   "source": [
    "## Important change ##########\n",
    "heatmap_settings = {\n",
    "    'track_type': 'horizontal-1d-heatmap',\n",
    "    'position': 'top',\n",
    "    'height': 48,\n",
    "    'options': {\n",
    "        'colorRange': ['#003aa8', '#3379ff', '#dddddd', '#ff3d33', '#990700'],\n",
    "        'valueScaleMin': -20,\n",
    "        'valueScaleMax': +20,\n",
    "    }\n",
    "}\n",
    "\n",
    "corpus_christi_heatmap = Track(tileset=tileset_corpus_christi, **heatmap_settings)\n",
    "boston_heatmap = Track(tileset=tileset_boston, **heatmap_settings)\n",
    "fairbanks_heatmap = Track(tileset=tileset_fairbanks, **heatmap_settings)\n",
    "##############################\n",
    "\n",
    "view = {\n",
    "    'x': 0,\n",
    "    'y': 1,\n",
    "    ## Important change ##########\n",
    "    'initialXDomain': [539148, 565428], # Winters 2014/15, 2015/16, 2016/17\n",
    "    ##############################\n",
    "    'tracks': [\n",
    "        top_axis,\n",
    "        corpus_christi_heatmap, boston_heatmap, fairbanks_heatmap,\n",
    "        combined_track\n",
    "    ]\n",
    "}\n",
    "\n",
    "\n",
    "widget, _, _ = display([View(**view)], host=HOST, server_port=PORT)\n",
    "\n",
    "widget"
   ]
  },
  {
   "cell_type": "markdown",
   "metadata": {},
   "source": [
    "Winters 2014/15, 2015/16, and 2016/17\n",
    "\n",
    "---\n",
    "\n",
    "**Some basic stats about the temperature data**"
   ]
  },
  {
   "cell_type": "code",
   "execution_count": null,
   "metadata": {},
   "outputs": [],
   "source": [
    "import numpy as np\n",
    "\n",
    "print('Temperature measurements from {} to {}'.format(*min_max_dates))\n",
    "\n",
    "print('Temperatures in Corpus Christi range from {}°C to {}°C'.format(\n",
    "    np.nanmin(temps_by_city['corpus_christi']), np.nanmax(temps_by_city['corpus_christi'])\n",
    "))\n",
    "\n",
    "print('Temperatures in Boston range from {}°C to {}°C'.format(\n",
    "    np.nanmin(temps_by_city['boston']), np.nanmax(temps_by_city['boston'])\n",
    "))\n",
    "\n",
    "print('Temperatures in Fairbanks range from {}°C to {}°C'.format(\n",
    "    np.nanmin(temps_by_city['fairbanks']), np.nanmax(temps_by_city['fairbanks'])\n",
    "))"
   ]
  },
  {
   "cell_type": "code",
   "execution_count": null,
   "metadata": {},
   "outputs": [],
   "source": []
  }
 ],
 "metadata": {
  "kernelspec": {
   "display_name": "Python 3",
   "language": "python",
   "name": "python3"
  },
  "language_info": {
   "codemirror_mode": {
    "name": "ipython",
    "version": 3
   },
   "file_extension": ".py",
   "mimetype": "text/x-python",
   "name": "python",
   "nbconvert_exporter": "python",
   "pygments_lexer": "ipython3",
   "version": "3.7.3"
  }
 },
 "nbformat": 4,
 "nbformat_minor": 2
}

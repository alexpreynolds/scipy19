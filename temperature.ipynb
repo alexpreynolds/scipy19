{
 "cells": [
  {
   "cell_type": "markdown",
   "metadata": {},
   "source": [
    "# Temperature - Basic Usage of HiGlass\n",
    "\n",
    "In this notebook we will talk through the main aspects of the API and how to get started visualizing data"
   ]
  },
  {
   "cell_type": "code",
   "execution_count": 1,
   "metadata": {},
   "outputs": [],
   "source": [
    "%load_ext autoreload\n",
    "%autoreload 2"
   ]
  },
  {
   "cell_type": "markdown",
   "metadata": {},
   "source": [
    "### Load data"
   ]
  },
  {
   "cell_type": "code",
   "execution_count": 14,
   "metadata": {},
   "outputs": [],
   "source": [
    "from utils import get_ncei_temperature_data_as_array\n",
    "\n",
    "temps_by_city = get_ncei_temperature_data_as_array({\n",
    "    \"boston\": {\n",
    "        \"files\": [\n",
    "            \"data/1577451.csv.gz\",\n",
    "            \"data/1577468.csv.gz\",\n",
    "            \"data/1573178.csv.gz\"\n",
    "        ],\n",
    "        \"station\": 72509014739\n",
    "    },\n",
    "    \"fairbanks\": {\n",
    "        \"files\": [\"data/1707246.csv.gz\"],\n",
    "        \"station\": 70261026411\n",
    "    }\n",
    "})"
   ]
  },
  {
   "cell_type": "markdown",
   "metadata": {},
   "source": [
    "### Create tilesets"
   ]
  },
  {
   "cell_type": "code",
   "execution_count": 20,
   "metadata": {},
   "outputs": [],
   "source": [
    "from higlass.tilesets import Tileset\n",
    "from clodius.tiles.npvector import tileset_info, tiles_wrapper\n",
    "\n",
    "tilesets = {}\n",
    "for city in temps_by_city:\n",
    "    tilesets[city] = Tileset(\n",
    "        tileset_info=lambda: tileset_info(temps_by_city[city][0]),\n",
    "        tiles=lambda tile_ids: tiles_wrapper(temps_by_city[city][0], tile_ids, temps_by_city[city][1])\n",
    "    )"
   ]
  },
  {
   "cell_type": "markdown",
   "metadata": {},
   "source": [
    "### Create HiGlass view"
   ]
  },
  {
   "cell_type": "code",
   "execution_count": 21,
   "metadata": {},
   "outputs": [
    {
     "data": {
      "application/vnd.jupyter.widget-view+json": {
       "model_id": "28e78fab7831432f83128a2c483e4b19",
       "version_major": 2,
       "version_minor": 0
      },
      "text/plain": [
       "HiGlassDisplay(viewconf={'editable': True, 'views': [{'uid': 'T48vFa9XQxaa0gjSOjKyNA', 'tracks': {'top': [{'ty…"
      ]
     },
     "metadata": {},
     "output_type": "display_data"
    }
   ],
   "source": [
    "import higlass\n",
    "import higlass.tilesets as hgt\n",
    "from higlass.client import Track, CombinedTrack, View\n",
    "\n",
    "\n",
    "top_axis = Track('top-axis')\n",
    "boston_line = Track(\n",
    "    'horizontal-line',\n",
    "    tileset=tilesets['boston'],\n",
    "    height=100,\n",
    "    options={\n",
    "        'name': 'Boston',\n",
    "        'lineStrokeColor': 'green',\n",
    "        'lineStrokeWidth': 2,\n",
    "        'constIndicators': [0],\n",
    "    },\n",
    ")\n",
    "fairbanks_line = Track(\n",
    "    'horizontal-line',\n",
    "    tileset=tilesets['fairbanks'],\n",
    "    height=100,\n",
    "    options={\n",
    "        'name': 'Fairbanks',\n",
    "        'lineStrokeColor': 'blue',\n",
    "        'lineStrokeWidth': 2,\n",
    "        'constIndicators': [0],\n",
    "    },\n",
    ")\n",
    "\n",
    "display, server, viewconf = higlass.display([\n",
    "    View([top_axis, boston_line, fairbanks_line])\n",
    "])\n",
    "\n",
    "display"
   ]
  },
  {
   "cell_type": "code",
   "execution_count": null,
   "metadata": {},
   "outputs": [],
   "source": []
  }
 ],
 "metadata": {
  "kernelspec": {
   "display_name": "Python 3",
   "language": "python",
   "name": "python3"
  },
  "language_info": {
   "codemirror_mode": {
    "name": "ipython",
    "version": 3
   },
   "file_extension": ".py",
   "mimetype": "text/x-python",
   "name": "python",
   "nbconvert_exporter": "python",
   "pygments_lexer": "ipython3",
   "version": "3.7.3"
  }
 },
 "nbformat": 4,
 "nbformat_minor": 2
}

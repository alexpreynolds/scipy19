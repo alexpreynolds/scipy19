{
 "cells": [
  {
   "cell_type": "code",
   "execution_count": 4,
   "metadata": {},
   "outputs": [],
   "source": [
    "import higlass\n",
    "import higlass.client as client"
   ]
  },
  {
   "cell_type": "code",
   "execution_count": 5,
   "metadata": {},
   "outputs": [],
   "source": [
    "view = client.View([\n",
    "    client.Track(track_type='top-axis', position='top'),\n",
    "    client.Track(\n",
    "        server='http://higlass.io/api/v1/',\n",
    "        tileset_uuid='CQMd6V_cRw6iCI_-Unl3PQ',\n",
    "        track_type='heatmap',\n",
    "        position='center',\n",
    "        height=250,\n",
    "        options={'valueScaleMax': 0.5}\n",
    "    ),\n",
    "])"
   ]
  },
  {
   "cell_type": "code",
   "execution_count": 7,
   "metadata": {},
   "outputs": [
    {
     "name": "stdout",
     "output_type": "stream",
     "text": [
      "self.diskcache_directory /tmp/hgflask/dc True\n",
      "starting fuse\n"
     ]
    },
    {
     "name": "stderr",
     "output_type": "stream",
     "text": [
      "Process Process-7:\n",
      "Traceback (most recent call last):\n",
      "  File \"/Users/Fritz/miniconda3/envs/higlass-scipy19/lib/python3.7/site-packages/multiprocess/process.py\", line 297, in _bootstrap\n",
      "    self.run()\n",
      "  File \"/Users/Fritz/miniconda3/envs/higlass-scipy19/lib/python3.7/site-packages/multiprocess/process.py\", line 99, in run\n",
      "    self._target(*self._args, **self._kwargs)\n",
      "  File \"/Users/Fritz/Code/4DN/higlass-python/higlass/server.py\", line 276, in start_fuse\n",
      "    allow_other=True\n",
      "  File \"/Users/Fritz/miniconda3/envs/higlass-scipy19/lib/python3.7/site-packages/fuse.py\", line 711, in __init__\n",
      "    raise RuntimeError(err)\n",
      "RuntimeError: 1\n"
     ]
    },
    {
     "name": "stdout",
     "output_type": "stream",
     "text": [
      "starting fuse\n"
     ]
    },
    {
     "name": "stderr",
     "output_type": "stream",
     "text": [
      "Process Process-8:\n",
      "Traceback (most recent call last):\n",
      "  File \"/Users/Fritz/miniconda3/envs/higlass-scipy19/lib/python3.7/site-packages/multiprocess/process.py\", line 297, in _bootstrap\n",
      "    self.run()\n",
      "  File \"/Users/Fritz/miniconda3/envs/higlass-scipy19/lib/python3.7/site-packages/multiprocess/process.py\", line 99, in run\n",
      "    self._target(*self._args, **self._kwargs)\n",
      "  File \"/Users/Fritz/Code/4DN/higlass-python/higlass/server.py\", line 276, in start_fuse\n",
      "    allow_other=True\n",
      "  File \"/Users/Fritz/miniconda3/envs/higlass-scipy19/lib/python3.7/site-packages/fuse.py\", line 711, in __init__\n",
      "    raise RuntimeError(err)\n",
      "RuntimeError: 1\n"
     ]
    },
    {
     "name": "stdout",
     "output_type": "stream",
     "text": [
      "terminating: X5nvQm78SJmCQ1DYJ9mBfA\n",
      " * Serving Flask app \"higlass.server\" (lazy loading)\n",
      " * Environment: production\n",
      "   WARNING: This is a development server. Do not use it in a production deployment.\n",
      "   Use a production WSGI server instead.\n",
      " * Debug mode: on\n"
     ]
    },
    {
     "data": {
      "application/vnd.jupyter.widget-view+json": {
       "model_id": "c58af9955a404c7b882c9ccb86372083",
       "version_major": 2,
       "version_minor": 0
      },
      "text/plain": [
       "HiGlassDisplay(viewconf={'editable': True, 'views': [{'uid': 'elHzEGw9S9ys6UkvP7iByA', 'tracks': {'top': [{'ty…"
      ]
     },
     "metadata": {},
     "output_type": "display_data"
    }
   ],
   "source": [
    "(display, server, viewconf) = higlass.display([view])\n",
    "\n",
    "display"
   ]
  },
  {
   "cell_type": "code",
   "execution_count": null,
   "metadata": {},
   "outputs": [],
   "source": []
  }
 ],
 "metadata": {
  "kernelspec": {
   "display_name": "Python 3",
   "language": "python",
   "name": "python3"
  },
  "language_info": {
   "codemirror_mode": {
    "name": "ipython",
    "version": 3
   },
   "file_extension": ".py",
   "mimetype": "text/x-python",
   "name": "python",
   "nbconvert_exporter": "python",
   "pygments_lexer": "ipython3",
   "version": "3.7.3"
  }
 },
 "nbformat": 4,
 "nbformat_minor": 2
}

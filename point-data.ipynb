{
 "cells": [
  {
   "cell_type": "markdown",
   "metadata": {},
   "source": [
    "# Labeled Point Data\n",
    "\n",
    "In this notebook we're going to implement a custom tiles handler"
   ]
  },
  {
   "cell_type": "code",
   "execution_count": 1,
   "metadata": {},
   "outputs": [],
   "source": [
    "%load_ext autoreload\n",
    "%autoreload 2"
   ]
  },
  {
   "cell_type": "code",
   "execution_count": 2,
   "metadata": {},
   "outputs": [],
   "source": [
    "import h5py\n",
    "import numpy as np\n",
    "import pandas as pd"
   ]
  },
  {
   "cell_type": "code",
   "execution_count": 3,
   "metadata": {},
   "outputs": [
    {
     "name": "stdout",
     "output_type": "stream",
     "text": [
      "Number of points: 2601157\n"
     ]
    },
    {
     "data": {
      "text/html": [
       "<div>\n",
       "<style scoped>\n",
       "    .dataframe tbody tr th:only-of-type {\n",
       "        vertical-align: middle;\n",
       "    }\n",
       "\n",
       "    .dataframe tbody tr th {\n",
       "        vertical-align: top;\n",
       "    }\n",
       "\n",
       "    .dataframe thead th {\n",
       "        text-align: right;\n",
       "    }\n",
       "</style>\n",
       "<table border=\"1\" class=\"dataframe\">\n",
       "  <thead>\n",
       "    <tr style=\"text-align: right;\">\n",
       "      <th></th>\n",
       "      <th>x</th>\n",
       "      <th>y</th>\n",
       "      <th>gene</th>\n",
       "    </tr>\n",
       "  </thead>\n",
       "  <tbody>\n",
       "    <tr>\n",
       "      <th>0</th>\n",
       "      <td>791.8022</td>\n",
       "      <td>229.1912</td>\n",
       "      <td>ENO1</td>\n",
       "    </tr>\n",
       "    <tr>\n",
       "      <th>1</th>\n",
       "      <td>901.6493</td>\n",
       "      <td>897.6785</td>\n",
       "      <td>MTHFD1</td>\n",
       "    </tr>\n",
       "    <tr>\n",
       "      <th>2</th>\n",
       "      <td>708.8124</td>\n",
       "      <td>902.3960</td>\n",
       "      <td>THBS1</td>\n",
       "    </tr>\n",
       "    <tr>\n",
       "      <th>3</th>\n",
       "      <td>-690.2937</td>\n",
       "      <td>-870.6509</td>\n",
       "      <td>PPM1G</td>\n",
       "    </tr>\n",
       "    <tr>\n",
       "      <th>4</th>\n",
       "      <td>-52.4658</td>\n",
       "      <td>-278.9252</td>\n",
       "      <td>ENO1</td>\n",
       "    </tr>\n",
       "  </tbody>\n",
       "</table>\n",
       "</div>"
      ],
      "text/plain": [
       "          x         y    gene\n",
       "0  791.8022  229.1912    ENO1\n",
       "1  901.6493  897.6785  MTHFD1\n",
       "2  708.8124  902.3960   THBS1\n",
       "3 -690.2937 -870.6509   PPM1G\n",
       "4  -52.4658 -278.9252    ENO1"
      ]
     },
     "execution_count": 3,
     "metadata": {},
     "output_type": "execute_result"
    }
   ],
   "source": [
    "df = pd.read_csv('data/spatial_gene_expression.csv.gz')\n",
    "\n",
    "print('Number of points: {}'.format(len(df)))\n",
    "df.head()"
   ]
  },
  {
   "cell_type": "code",
   "execution_count": 4,
   "metadata": {},
   "outputs": [],
   "source": [
    "from higlass.tilesets import Tileset\n",
    "\n",
    "def dfdensity(df, channel_col: str = None, channel: str = None, uuid: str = None, max_zoom: int = 30):\n",
    "    from clodius.tiles.format import format_dense_tile\n",
    "    from clodius.tiles.utils import bundled_tiles_wrapper_2d, tile_bounds\n",
    "    \n",
    "    # Tileset info\n",
    "    info = {\n",
    "        'min_pos': [df['x'].min(), df['y'].min()],\n",
    "        'max_pos': [df['x'].max(), df['y'].max()],\n",
    "        'max_width': max(\n",
    "            df['x'].max() - df['x'].min(),\n",
    "            df['y'].max() - df['y'].min()\n",
    "        ),\n",
    "        'max_zoom': max_zoom,\n",
    "        'mirror_tiles': False\n",
    "    }\n",
    "    \n",
    "    # Subsample data\n",
    "    if channel_col and channel:\n",
    "        data = df[df[channel_col] == channel].reindex(columns=['x', 'y']).values\n",
    "    else:\n",
    "        data = df.reindex(columns=['x', 'y']).values\n",
    "    \n",
    "    \n",
    "    def tileset_info():\n",
    "        return info\n",
    "    \n",
    "    \n",
    "    def filter_points(out, extent):\n",
    "        out = out[out[:, 0] > extent[0]]\n",
    "        out = out[out[:, 0] < extent[2]]\n",
    "        out = out[out[:, 1] > extent[1]]\n",
    "        out = out[out[:, 1] < extent[3]]\n",
    "\n",
    "        return out\n",
    "\n",
    "\n",
    "    def density_tiles(z, x, y, width=1, height=1):\n",
    "        returns = []\n",
    "        \n",
    "        out = data.copy()\n",
    "\n",
    "        # get all the points in the region\n",
    "        all_points = filter_points(out, tile_bounds(info, z, x, y, width, height))\n",
    "\n",
    "        for i in range(width):\n",
    "            for j in range(height):\n",
    "                # filter from the larger subregion\n",
    "                filtered_points = filter_points(all_points, tile_bounds(info, z, x + i, y + j))\n",
    "\n",
    "                hist = np.histogram2d(\n",
    "                    filtered_points[:, 0],\n",
    "                    filtered_points[:, 1],\n",
    "                    bins=256\n",
    "                )[0].T\n",
    "                hist[hist == 0.] = np.nan\n",
    "\n",
    "                returns += [((z, x + i, y + j), hist)]\n",
    "\n",
    "        return returns\n",
    "    \n",
    "    def get_tile(z, x, y, width: int = 1, height: int = 1):\n",
    "        return [(tile_position, format_dense_tile(d.flatten())) for\n",
    "                (tile_position, d) in density_tiles(z, x, y, width, height)]\n",
    "    \n",
    "    def tiles(tile_ids):\n",
    "        return bundled_tiles_wrapper_2d(tile_ids, get_tile)\n",
    "\n",
    "    return Tileset(\n",
    "        uuid=uuid,\n",
    "        tileset_info=tileset_info,\n",
    "        tiles=tiles\n",
    "    )"
   ]
  },
  {
   "cell_type": "code",
   "execution_count": 5,
   "metadata": {},
   "outputs": [],
   "source": [
    "ts_density = dfdensity(df, uuid='density')"
   ]
  },
  {
   "cell_type": "code",
   "execution_count": 6,
   "metadata": {},
   "outputs": [
    {
     "data": {
      "application/vnd.jupyter.widget-view+json": {
       "model_id": "7013448d7e1549499eeb55889264eef6",
       "version_major": 2,
       "version_minor": 0
      },
      "text/plain": [
       "HiGlassDisplay(viewconf={'editable': True, 'views': [{'uid': 'ChcLkcYFQyKeXNObDS3-qA', 'tracks': {'top': [{'ty…"
      ]
     },
     "metadata": {},
     "output_type": "display_data"
    }
   ],
   "source": [
    "import higlass\n",
    "from higlass.client import Track, View\n",
    "\n",
    "display, server, viewconf = higlass.display([\n",
    "    View([\n",
    "        Track('left-axis'),\n",
    "        Track('top-axis'),\n",
    "        Track('heatmap',\n",
    "            tileset=ts_density,\n",
    "            position='center',\n",
    "            height=600,\n",
    "            options={\n",
    "                'colorRange': ['rgba(245,166,35,1.0)', 'rgba(208,2,27,1.0)', 'black'],\n",
    "                'backgroundColor': 'white',\n",
    "                'name': 'Spatial Gene Transcription',\n",
    "            }),\n",
    "    ]),\n",
    "])\n",
    "\n",
    "display"
   ]
  },
  {
   "cell_type": "code",
   "execution_count": 7,
   "metadata": {},
   "outputs": [
    {
     "data": {
      "application/vnd.jupyter.widget-view+json": {
       "model_id": "c6b524b6bfec4fd8af00773796e2d595",
       "version_major": 2,
       "version_minor": 0
      },
      "text/plain": [
       "HiGlassDisplay(viewconf={'editable': True, 'views': [{'uid': 'AOtJXQu9RDCe53R_5SDZcw', 'tracks': {'top': [{'ty…"
      ]
     },
     "metadata": {},
     "output_type": "display_data"
    }
   ],
   "source": [
    "ts_density_eno1 = dfdensity(df, channel_col='gene', channel='ENO1', uuid='density_eno1')\n",
    "ts_density_thbs1 = dfdensity(df, channel_col='gene', channel='THBS1', uuid='density_thbs1')\n",
    "\n",
    "display, server, viewconf = higlass.display([\n",
    "    View(\n",
    "        x=0,\n",
    "        y=0,\n",
    "        width=4,\n",
    "        height=12,\n",
    "        tracks=[\n",
    "            Track('left-axis'),\n",
    "            Track('top-axis'),\n",
    "            Track('heatmap',\n",
    "                tileset=ts_density,\n",
    "                position='center',\n",
    "                height=400,\n",
    "                options={\n",
    "                    'colorRange': ['rgba(245,166,35,1.0)', 'rgba(208,2,27,1.0)', 'black'],\n",
    "                    'backgroundColor': 'white',\n",
    "                    'name': 'Spatial Gene Transcription',\n",
    "                }),\n",
    "        ]\n",
    "    ),\n",
    "    View(\n",
    "        x=4,\n",
    "        y=0,\n",
    "        width=4,\n",
    "        height=12,\n",
    "        tracks=[\n",
    "            Track('left-axis'),\n",
    "            Track('top-axis'),\n",
    "            Track('heatmap',\n",
    "                tileset=ts_density_eno1,\n",
    "                position='center',\n",
    "                height=400,\n",
    "                options={\n",
    "                    'colorRange': ['rgba(128,217,255,1.0)', 'rgba(0,180,255,1.0)', 'rgba(0,90,128,1.0)', 'black'],\n",
    "                    'backgroundColor': 'white',\n",
    "                    'name': 'Spatial Gene Transcription of EN01',\n",
    "                }\n",
    "            ),\n",
    "        ]\n",
    "    ),\n",
    "    View(\n",
    "        x=8,\n",
    "        y=0,\n",
    "        width=4,\n",
    "        height=12,\n",
    "        tracks=[\n",
    "            Track('left-axis'),\n",
    "            Track('top-axis'),\n",
    "            Track('heatmap',\n",
    "                tileset=ts_density_thbs1,\n",
    "                position='center',\n",
    "                height=400,\n",
    "                options={\n",
    "                    'colorRange': ['rgba(128,217,255,1.0)', 'rgba(0,180,255,1.0)', 'rgba(0,90,128,1.0)', 'black'],\n",
    "                    'backgroundColor': 'white',\n",
    "                    'name': 'Spatial Gene Transcription of EN01',\n",
    "                }\n",
    "            ),\n",
    "        ]\n",
    "    ),\n",
    "])\n",
    "\n",
    "display"
   ]
  },
  {
   "cell_type": "code",
   "execution_count": null,
   "metadata": {},
   "outputs": [],
   "source": []
  }
 ],
 "metadata": {
  "kernelspec": {
   "display_name": "Python 3",
   "language": "python",
   "name": "python3"
  },
  "language_info": {
   "codemirror_mode": {
    "name": "ipython",
    "version": 3
   },
   "file_extension": ".py",
   "mimetype": "text/x-python",
   "name": "python",
   "nbconvert_exporter": "python",
   "pygments_lexer": "ipython3",
   "version": "3.7.3"
  }
 },
 "nbformat": 4,
 "nbformat_minor": 4
}

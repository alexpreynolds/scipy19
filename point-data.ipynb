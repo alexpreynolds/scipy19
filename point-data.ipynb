{
 "cells": [
  {
   "cell_type": "markdown",
   "metadata": {},
   "source": [
    "# Labeled Point Data\n",
    "\n",
    "In this notebook we're going to implement a custom tile generator to serve custome data"
   ]
  },
  {
   "cell_type": "code",
   "execution_count": null,
   "metadata": {},
   "outputs": [],
   "source": [
    "%load_ext autoreload\n",
    "%autoreload 2"
   ]
  },
  {
   "cell_type": "code",
   "execution_count": null,
   "metadata": {},
   "outputs": [],
   "source": [
    "import h5py\n",
    "import numpy as np\n",
    "import pandas as pd"
   ]
  },
  {
   "cell_type": "markdown",
   "metadata": {},
   "source": [
    "### Load data\n",
    "\n",
    "In this example we show a dataset on image-based spatial transcriptomics by [Wang et al., 2018.](https://doi.org/10.1038/s41598-018-22297-7)"
   ]
  },
  {
   "cell_type": "code",
   "execution_count": null,
   "metadata": {},
   "outputs": [],
   "source": [
    "df = pd.read_csv('data/spatial_gene_expression.csv.gz')\n",
    "\n",
    "print('Number of points: {}'.format(len(df)))\n",
    "df.head()"
   ]
  },
  {
   "cell_type": "markdown",
   "metadata": {},
   "source": [
    "### Custom tileset API\n",
    "\n",
    "To generate and serve custom tiles we need a `tileset_info()` and a `tiles()` function as demonstrated below."
   ]
  },
  {
   "cell_type": "code",
   "execution_count": null,
   "metadata": {},
   "outputs": [],
   "source": [
    "from higlass.tilesets import Tileset\n",
    "from clodius.tiles.format import format_dense_tile\n",
    "from clodius.tiles.utils import tile_bounds\n",
    "\n",
    "def dfdensity(df, channel_col=None, channel=None, uuid=None, max_zoom=10):\n",
    "    \n",
    "    # [Optional] Subsample data\n",
    "    if channel_col and channel:\n",
    "        data = df[df[channel_col] == channel].reindex(columns=['x', 'y']).values\n",
    "    else:\n",
    "        data = df.reindex(columns=['x', 'y']).values\n",
    "\n",
    "    tileset_info = {\n",
    "        'min_pos': [df['x'].min(), df['y'].min()],\n",
    "        'max_pos': [df['x'].max(), df['y'].max()],\n",
    "        'max_width': max(\n",
    "            df['x'].max() - df['x'].min(),\n",
    "            df['y'].max() - df['y'].min()\n",
    "        ),\n",
    "        'max_zoom': max_zoom,\n",
    "        'mirror_tiles': False\n",
    "    }\n",
    "            \n",
    "    def get_tile(z, x, y):\n",
    "        extent = tile_bounds(tileset_info, z, x, y)\n",
    "        \n",
    "        # get all the points within the extent\n",
    "        points = data[\n",
    "            (data[:, 0] > extent[0]) &\n",
    "            (data[:, 0] < extent[2]) &\n",
    "            (data[:, 1] > extent[1]) &\n",
    "            (data[:, 1] < extent[3])\n",
    "        ]\n",
    "        \n",
    "        # Generate a 2D histogram\n",
    "        hist, _, _ = np.histogram2d(\n",
    "            points[:, 0],\n",
    "            points[:, 1],\n",
    "            bins=256\n",
    "        )\n",
    "        \n",
    "        # Set empty bins to `nan` to make them transparent\n",
    "        hist[hist == 0.] = np.nan\n",
    "        \n",
    "        return hist.T\n",
    "    \n",
    "    def tiles(tile_ids):\n",
    "        tiles = []\n",
    "        \n",
    "        for tile_id in tile_ids:\n",
    "            _, z, x, y = tile_id.split('.')\n",
    "            # `format_dense_tile()` converts the ndarray to base64 encoding\n",
    "            # and adds min/max values\n",
    "            data = format_dense_tile(get_tile(int(z), int(x), int(y)))\n",
    "            tiles.append((tile_id, data))\n",
    "    \n",
    "        return tiles\n",
    "\n",
    "    return Tileset(\n",
    "        uuid=uuid,\n",
    "        tileset_info=lambda: tileset_info,\n",
    "        tiles=tiles\n",
    "    )"
   ]
  },
  {
   "cell_type": "markdown",
   "metadata": {},
   "source": [
    "Let's visualize the data as usual"
   ]
  },
  {
   "cell_type": "code",
   "execution_count": null,
   "metadata": {},
   "outputs": [],
   "source": [
    "import higlass\n",
    "from higlass.client import Track, View\n",
    "\n",
    "tileset = dfdensity(df, uuid='density')\n",
    "\n",
    "display, server, viewconf = higlass.display([\n",
    "    View([\n",
    "        Track('heatmap',\n",
    "            tileset=tileset,\n",
    "            position='center',\n",
    "            height=600,\n",
    "            options={\n",
    "                'colorRange': ['rgba(245,166,35,1.0)', 'rgba(208,2,27,1.0)', 'black'],\n",
    "                'backgroundColor': 'white',\n",
    "                'name': 'Wang et al. Spatial Gene Transcription',\n",
    "            }\n",
    "        ),\n",
    "    ]),\n",
    "])\n",
    "\n",
    "display"
   ]
  },
  {
   "cell_type": "markdown",
   "metadata": {},
   "source": [
    "Because we implemented a custom tileset API we can add any kind of customization like picking which channels (i.e., genes) we actually want to visualize."
   ]
  },
  {
   "cell_type": "code",
   "execution_count": null,
   "metadata": {},
   "outputs": [],
   "source": [
    "display, server, viewconf = higlass.display([\n",
    "    View(\n",
    "        x=0,\n",
    "        y=0,\n",
    "        width=4,\n",
    "        height=12,\n",
    "        tracks=[\n",
    "            Track('heatmap',\n",
    "                tileset=dfdensity(df, uuid='density'),\n",
    "                position='center',\n",
    "                height=400,\n",
    "                options={\n",
    "                    'colorRange': ['rgba(245,166,35,1.0)', 'rgba(208,2,27,1.0)', 'black'],\n",
    "                    'backgroundColor': 'white',\n",
    "                    'name': 'Wang et al.: All',\n",
    "                }),\n",
    "        ]\n",
    "    ),\n",
    "    View(\n",
    "        x=4,\n",
    "        y=0,\n",
    "        width=4,\n",
    "        height=12,\n",
    "        tracks=[\n",
    "            Track('heatmap',\n",
    "                tileset=dfdensity(df, channel_col='gene', channel='ENO1', uuid='density_eno1'),\n",
    "                position='center',\n",
    "                height=400,\n",
    "                options={\n",
    "                    'colorRange': ['rgba(128,217,255,1.0)', 'rgba(0,180,255,1.0)', 'rgba(0,90,128,1.0)', 'black'],\n",
    "                    'backgroundColor': 'white',\n",
    "                    'name': 'Wang et al.: ENO1',\n",
    "                }\n",
    "            ),\n",
    "        ]\n",
    "    ),\n",
    "    View(\n",
    "        x=8,\n",
    "        y=0,\n",
    "        width=4,\n",
    "        height=12,\n",
    "        tracks=[\n",
    "            Track('heatmap',\n",
    "                tileset=dfdensity(df, channel_col='gene', channel='THBS1', uuid='density_thbs1'),\n",
    "                position='center',\n",
    "                height=400,\n",
    "                options={\n",
    "                    'colorRange': ['rgba(128,217,255,1.0)', 'rgba(0,180,255,1.0)', 'rgba(0,90,128,1.0)', 'black'],\n",
    "                    'backgroundColor': 'white',\n",
    "                    'name': 'Wang et al.: THBS1',\n",
    "                }\n",
    "            ),\n",
    "        ]\n",
    "    ),\n",
    "])\n",
    "\n",
    "display"
   ]
  },
  {
   "cell_type": "markdown",
   "metadata": {},
   "source": [
    "### Tileset Response\n",
    "\n",
    "Most HiGlass tracks expect the data to be base64 encoded numpy arrays (`dense`) with a the data type (`dtype`), length `size`, and precalculated min and max values (`min_value` and `max_value`) for efficient value scaling."
   ]
  },
  {
   "cell_type": "code",
   "execution_count": null,
   "metadata": {},
   "outputs": [],
   "source": [
    "response = server.tiles(tileset.uuid, 0, 0, 0)\n",
    "print(\n",
    "    'dtype:', response['dtype'],\n",
    "    'size:', response['size'],\n",
    "    'min_value:', response['min_value'],\n",
    "    'max_value:', response['max_value'],\n",
    "    'dense:', '{}...'.format(response['dense'][:20])\n",
    ")"
   ]
  },
  {
   "cell_type": "markdown",
   "metadata": {},
   "source": [
    "### View config\n",
    "\n",
    "To ultimately visualize the data, HiGlass' viewer requires a view configuration telling HiGlass the what, how, and where."
   ]
  },
  {
   "cell_type": "code",
   "execution_count": null,
   "metadata": {},
   "outputs": [],
   "source": [
    "viewconf"
   ]
  },
  {
   "cell_type": "code",
   "execution_count": null,
   "metadata": {},
   "outputs": [],
   "source": []
  }
 ],
 "metadata": {
  "kernelspec": {
   "display_name": "Python 3",
   "language": "python",
   "name": "python3"
  },
  "language_info": {
   "codemirror_mode": {
    "name": "ipython",
    "version": 3
   },
   "file_extension": ".py",
   "mimetype": "text/x-python",
   "name": "python",
   "nbconvert_exporter": "python",
   "pygments_lexer": "ipython3",
   "version": "3.7.3"
  }
 },
 "nbformat": 4,
 "nbformat_minor": 4
}

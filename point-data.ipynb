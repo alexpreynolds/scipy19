{
 "cells": [
  {
   "cell_type": "markdown",
   "metadata": {},
   "source": [
    "# Labeled Point Data\n",
    "\n",
    "In this notebook we're going to implement a custom tile generator to serve custome data"
   ]
  },
  {
   "cell_type": "code",
   "execution_count": 1,
   "metadata": {},
   "outputs": [],
   "source": [
    "%load_ext autoreload\n",
    "%autoreload 2"
   ]
  },
  {
   "cell_type": "code",
   "execution_count": 2,
   "metadata": {},
   "outputs": [],
   "source": [
    "import h5py\n",
    "import numpy as np\n",
    "import pandas as pd"
   ]
  },
  {
   "cell_type": "markdown",
   "metadata": {},
   "source": [
    "### Load data\n",
    "\n",
    "In this example we show a dataset on image-based spatial transcriptomics by [Wang et al., 2018.](https://doi.org/10.1038/s41598-018-22297-7)"
   ]
  },
  {
   "cell_type": "code",
   "execution_count": 3,
   "metadata": {},
   "outputs": [
    {
     "name": "stdout",
     "output_type": "stream",
     "text": [
      "Number of points: 2601157\n"
     ]
    },
    {
     "data": {
      "text/html": [
       "<div>\n",
       "<style scoped>\n",
       "    .dataframe tbody tr th:only-of-type {\n",
       "        vertical-align: middle;\n",
       "    }\n",
       "\n",
       "    .dataframe tbody tr th {\n",
       "        vertical-align: top;\n",
       "    }\n",
       "\n",
       "    .dataframe thead th {\n",
       "        text-align: right;\n",
       "    }\n",
       "</style>\n",
       "<table border=\"1\" class=\"dataframe\">\n",
       "  <thead>\n",
       "    <tr style=\"text-align: right;\">\n",
       "      <th></th>\n",
       "      <th>x</th>\n",
       "      <th>y</th>\n",
       "      <th>gene</th>\n",
       "    </tr>\n",
       "  </thead>\n",
       "  <tbody>\n",
       "    <tr>\n",
       "      <th>0</th>\n",
       "      <td>791.8022</td>\n",
       "      <td>229.1912</td>\n",
       "      <td>ENO1</td>\n",
       "    </tr>\n",
       "    <tr>\n",
       "      <th>1</th>\n",
       "      <td>901.6493</td>\n",
       "      <td>897.6785</td>\n",
       "      <td>MTHFD1</td>\n",
       "    </tr>\n",
       "    <tr>\n",
       "      <th>2</th>\n",
       "      <td>708.8124</td>\n",
       "      <td>902.3960</td>\n",
       "      <td>THBS1</td>\n",
       "    </tr>\n",
       "    <tr>\n",
       "      <th>3</th>\n",
       "      <td>-690.2937</td>\n",
       "      <td>-870.6509</td>\n",
       "      <td>PPM1G</td>\n",
       "    </tr>\n",
       "    <tr>\n",
       "      <th>4</th>\n",
       "      <td>-52.4658</td>\n",
       "      <td>-278.9252</td>\n",
       "      <td>ENO1</td>\n",
       "    </tr>\n",
       "  </tbody>\n",
       "</table>\n",
       "</div>"
      ],
      "text/plain": [
       "          x         y    gene\n",
       "0  791.8022  229.1912    ENO1\n",
       "1  901.6493  897.6785  MTHFD1\n",
       "2  708.8124  902.3960   THBS1\n",
       "3 -690.2937 -870.6509   PPM1G\n",
       "4  -52.4658 -278.9252    ENO1"
      ]
     },
     "execution_count": 3,
     "metadata": {},
     "output_type": "execute_result"
    }
   ],
   "source": [
    "df = pd.read_csv('data/spatial_gene_expression.csv.gz')\n",
    "\n",
    "print('Number of points: {}'.format(len(df)))\n",
    "df.head()"
   ]
  },
  {
   "cell_type": "markdown",
   "metadata": {},
   "source": [
    "### Custom tileset API\n",
    "\n",
    "To generate and serve custom tiles we need a `tileset_info()` and a `tiles()` function as demonstrated below."
   ]
  },
  {
   "cell_type": "code",
   "execution_count": 4,
   "metadata": {},
   "outputs": [],
   "source": [
    "from higlass import Tileset\n",
    "from clodius.tiles.format import format_dense_tile\n",
    "from clodius.tiles.utils import tile_bounds\n",
    "\n",
    "def dfdensity(df, channel_col=None, channel=None, uuid=None, max_zoom=5, **kwargs):\n",
    "    \n",
    "    # [Optional] Subsample data\n",
    "    if channel_col and channel:\n",
    "        data = df[df[channel_col] == channel].reindex(columns=['x', 'y']).values\n",
    "    else:\n",
    "        data = df.reindex(columns=['x', 'y']).values\n",
    "\n",
    "    tileset_info = {\n",
    "        'min_pos': [df['x'].min(), df['y'].min()],\n",
    "        'max_pos': [df['x'].max(), df['y'].max()],\n",
    "        'max_width': max(\n",
    "            df['x'].max() - df['x'].min(),\n",
    "            df['y'].max() - df['y'].min()\n",
    "        ),\n",
    "        'max_zoom': max_zoom,\n",
    "        'mirror_tiles': 'false'\n",
    "    }\n",
    "            \n",
    "    def get_tile(z, x, y):\n",
    "        extent = tile_bounds(tileset_info, z, x, y)\n",
    "        \n",
    "        # get all the points within the extent\n",
    "        points = data[\n",
    "            (data[:, 0] > extent[0]) &\n",
    "            (data[:, 0] < extent[2]) &\n",
    "            (data[:, 1] > extent[1]) &\n",
    "            (data[:, 1] < extent[3])\n",
    "        ]\n",
    "        \n",
    "        # Generate a 2D histogram\n",
    "        hist, _, _ = np.histogram2d(\n",
    "            points[:, 0],\n",
    "            points[:, 1],\n",
    "            bins=256\n",
    "        )\n",
    "        \n",
    "        # Set empty bins to `nan` to make them transparent\n",
    "        hist[hist == 0.] = np.nan\n",
    "        \n",
    "        return hist.T\n",
    "    \n",
    "    def tiles(tile_ids):\n",
    "        tiles = []\n",
    "        \n",
    "        for tile_id in tile_ids:\n",
    "            _, z, x, y = tile_id.split('.')\n",
    "            # `format_dense_tile()` converts the ndarray to base64 encoding\n",
    "            # and adds min/max values\n",
    "            data = format_dense_tile(get_tile(int(z), int(x), int(y)))\n",
    "            tiles.append((tile_id, data))\n",
    "    \n",
    "        return tiles\n",
    "\n",
    "    return Tileset(\n",
    "        uuid=uuid,\n",
    "        tileset_info=lambda: tileset_info,\n",
    "        tiles=tiles,\n",
    "        **kwargs\n",
    "    )"
   ]
  },
  {
   "cell_type": "markdown",
   "metadata": {},
   "source": [
    "Let's visualize the data as usual"
   ]
  },
  {
   "cell_type": "code",
   "execution_count": 5,
   "metadata": {},
   "outputs": [
    {
     "data": {
      "application/vnd.jupyter.widget-view+json": {
       "model_id": "52a04680f85740089ed6950345e8e58f",
       "version_major": 2,
       "version_minor": 0
      },
      "text/plain": [
       "HiGlassDisplay(hg_options={'isDarkTheme': False}, viewconf={'editable': True, 'views': [{'uid': 'P04VyuHVQvCCL…"
      ]
     },
     "metadata": {},
     "output_type": "display_data"
    }
   ],
   "source": [
    "from higlass import Track, View, display\n",
    "\n",
    "all_genes_tileset = dfdensity(df, uuid='density', name='Wang et al., 2018. All Genes')\n",
    "\n",
    "track_config = {\n",
    "    'track_type': 'heatmap',\n",
    "    'position': 'center',\n",
    "    'height': 600,\n",
    "    'options': {\n",
    "        'colorRange': ['#ffbb33', '#e5001c', 'black'],\n",
    "        'backgroundColor': 'white',\n",
    "    }\n",
    "}\n",
    "\n",
    "widget, server, viewconf = display([\n",
    "    View([\n",
    "        Track(tileset=all_genes_tileset, **track_config),\n",
    "    ]),\n",
    "])\n",
    "\n",
    "widget"
   ]
  },
  {
   "cell_type": "markdown",
   "metadata": {},
   "source": [
    "Because we implemented a custom tileset API we can add any kind of customization like picking which channels (i.e., genes) we actually want to visualize."
   ]
  },
  {
   "cell_type": "code",
   "execution_count": 6,
   "metadata": {},
   "outputs": [
    {
     "data": {
      "application/vnd.jupyter.widget-view+json": {
       "model_id": "fe665aeddd914c9bbdabbd369a1135c6",
       "version_major": 2,
       "version_minor": 0
      },
      "text/plain": [
       "HiGlassDisplay(hg_options={'isDarkTheme': False}, viewconf={'editable': True, 'views': [{'uid': 'LREtaRqlQhCFC…"
      ]
     },
     "metadata": {},
     "output_type": "display_data"
    }
   ],
   "source": [
    "## Important change ##########\n",
    "eno1_tileset = dfdensity(\n",
    "    df, channel_col='gene', channel='ENO1', uuid='density_eno1',\n",
    "    name='Wang et al., 2018. ENO1 Only'\n",
    ")\n",
    "notch2_tileset = dfdensity(\n",
    "    df, channel_col='gene', channel='NOTCH2', uuid='density_rad21',\n",
    "    name='Wang et al., 2018. NOTCH2 Only'\n",
    ")\n",
    "##############################\n",
    "\n",
    "view_config = {\n",
    "    'y': 0,\n",
    "    'width': 4,\n",
    "}\n",
    "\n",
    "all_genes_track = Track(tileset=all_genes_tileset, **track_config)\n",
    "eno1_track = Track(tileset=eno1_tileset, **track_config)\n",
    "notch2_track = Track(tileset=notch2_tileset, **track_config)\n",
    "\n",
    "widget, server, viewconf = display([\n",
    "    View(x=0, tracks=[all_genes_track], **view_config),\n",
    "    View(x=4, tracks=[eno1_track], **view_config),\n",
    "    View(x=8, tracks=[notch2_track], **view_config),\n",
    "])\n",
    "\n",
    "widget"
   ]
  },
  {
   "cell_type": "markdown",
   "metadata": {},
   "source": [
    "**Plasma vs nuclear transcribed RNAs**\n",
    "\n",
    "In the following closeup we can see that ENO1 is primarily transcriped in the cell body (outside the nucleolus) while NOTCH2 is transcribed within the nucleolus)"
   ]
  },
  {
   "cell_type": "code",
   "execution_count": 7,
   "metadata": {},
   "outputs": [
    {
     "data": {
      "application/vnd.jupyter.widget-view+json": {
       "model_id": "ad19df473b354b53bbb6df55037dc905",
       "version_major": 2,
       "version_minor": 0
      },
      "text/plain": [
       "HiGlassDisplay(hg_options={'isDarkTheme': False}, viewconf={'editable': True, 'views': [{'uid': 'CV0-QJ7DTLuhe…"
      ]
     },
     "metadata": {},
     "output_type": "display_data"
    }
   ],
   "source": [
    "from copy import deepcopy\n",
    "\n",
    "close_up_view_config = deepcopy(view_config)\n",
    "close_up_view_config['initialXDomain'] = [-333, -209]\n",
    "close_up_view_config['initialYDomain'] = [-202, -30]\n",
    "\n",
    "closeup_all_genes_track = all_genes_track.change_options(maxZoom=2)\n",
    "closeup_eno1_track = eno1_track.change_options(maxZoom=2)\n",
    "closeup_notch2_track = notch2_track.change_options(maxZoom=2)\n",
    "\n",
    "widget, server, viewconf = display([\n",
    "    View(x=0, tracks=[closeup_all_genes_track], **close_up_view_config),\n",
    "    View(x=4, tracks=[closeup_eno1_track], **close_up_view_config),\n",
    "    View(x=8, tracks=[closeup_notch2_track], **close_up_view_config),\n",
    "])\n",
    "\n",
    "widget"
   ]
  },
  {
   "cell_type": "markdown",
   "metadata": {},
   "source": [
    "### Tileset Response\n",
    "\n",
    "Most HiGlass tracks expect the data to be base64 encoded numpy arrays (`dense`) with a the data type (`dtype`), length `size`, and precalculated min and max values (`min_value` and `max_value`) for efficient value scaling."
   ]
  },
  {
   "cell_type": "code",
   "execution_count": 8,
   "metadata": {},
   "outputs": [
    {
     "name": "stdout",
     "output_type": "stream",
     "text": [
      "dtype: float32\n",
      "tile_size: 256\n",
      "min_value: 1.0\n",
      "max_value: 369.0\n",
      "dense: AABwQgAANEIAAJBBAAAA...\n"
     ]
    }
   ],
   "source": [
    "response = server.tiles(all_genes_tileset.uuid, 0, 0, 0)\n",
    "print(\n",
    "    f'dtype: {response[\"dtype\"]}', \n",
    "    f'tile_size: {response[\"size\"]}',\n",
    "    f'min_value: {response[\"min_value\"]}' ,\n",
    "    f'max_value: {response[\"max_value\"]}' ,\n",
    "    f'dense: {response[\"dense\"][:20]}...',\n",
    "    sep='\\n'\n",
    ")"
   ]
  },
  {
   "cell_type": "markdown",
   "metadata": {},
   "source": [
    "### View config\n",
    "\n",
    "To ultimately visualize the data, HiGlass' viewer requires a view configuration telling HiGlass the what, how, and where."
   ]
  },
  {
   "cell_type": "code",
   "execution_count": 9,
   "metadata": {},
   "outputs": [
    {
     "data": {
      "text/plain": [
       "{\n",
       "  \"editable\": true,\n",
       "  \"views\": [\n",
       "    {\n",
       "      \"uid\": \"CV0-QJ7DTLuheuGyXv7WzQ\",\n",
       "      \"tracks\": {\n",
       "        \"top\": [],\n",
       "        \"center\": [\n",
       "          {\n",
       "            \"type\": \"heatmap\",\n",
       "            \"options\": {\n",
       "              \"colorRange\": [\n",
       "                \"#ffbb33\",\n",
       "                \"#e5001c\",\n",
       "                \"black\"\n",
       "              ],\n",
       "              \"backgroundColor\": \"white\",\n",
       "              \"maxZoom\": 2\n",
       "            },\n",
       "            \"tilesetUid\": \"density\",\n",
       "            \"height\": 600,\n",
       "            \"server\": \"http://localhost:44141/api/v1\"\n",
       "          }\n",
       "        ],\n",
       "        \"left\": [],\n",
       "        \"right\": [],\n",
       "        \"bottom\": []\n",
       "      },\n",
       "      \"layout\": {\n",
       "        \"w\": 4,\n",
       "        \"h\": 6,\n",
       "        \"x\": 0,\n",
       "        \"y\": 0\n",
       "      },\n",
       "      \"initialXDomain\": [\n",
       "        -333,\n",
       "        -209\n",
       "      ],\n",
       "      \"initialYDomain\": [\n",
       "        -202,\n",
       "        -30\n",
       "      ]\n",
       "    },\n",
       "    {\n",
       "      \"uid\": \"WjD10TLITAy3l2KlV41sFQ\",\n",
       "      \"tracks\": {\n",
       "        \"top\": [],\n",
       "        \"center\": [\n",
       "          {\n",
       "            \"type\": \"heatmap\",\n",
       "            \"options\": {\n",
       "              \"colorRange\": [\n",
       "                \"#ffbb33\",\n",
       "                \"#e5001c\",\n",
       "                \"black\"\n",
       "              ],\n",
       "              \"backgroundColor\": \"white\",\n",
       "              \"maxZoom\": 2\n",
       "            },\n",
       "            \"tilesetUid\": \"density_eno1\",\n",
       "            \"height\": 600,\n",
       "            \"server\": \"http://localhost:44141/api/v1\"\n",
       "          }\n",
       "        ],\n",
       "        \"left\": [],\n",
       "        \"right\": [],\n",
       "        \"bottom\": []\n",
       "      },\n",
       "      \"layout\": {\n",
       "        \"w\": 4,\n",
       "        \"h\": 6,\n",
       "        \"x\": 4,\n",
       "        \"y\": 0\n",
       "      },\n",
       "      \"initialXDomain\": [\n",
       "        -333,\n",
       "        -209\n",
       "      ],\n",
       "      \"initialYDomain\": [\n",
       "        -202,\n",
       "        -30\n",
       "      ]\n",
       "    },\n",
       "    {\n",
       "      \"uid\": \"GyuMdiSUQeqF7i_30q2Gng\",\n",
       "      \"tracks\": {\n",
       "        \"top\": [],\n",
       "        \"center\": [\n",
       "          {\n",
       "            \"type\": \"heatmap\",\n",
       "            \"options\": {\n",
       "              \"colorRange\": [\n",
       "                \"#ffbb33\",\n",
       "                \"#e5001c\",\n",
       "                \"black\"\n",
       "              ],\n",
       "              \"backgroundColor\": \"white\",\n",
       "              \"maxZoom\": 2\n",
       "            },\n",
       "            \"tilesetUid\": \"density_rad21\",\n",
       "            \"height\": 600,\n",
       "            \"server\": \"http://localhost:44141/api/v1\"\n",
       "          }\n",
       "        ],\n",
       "        \"left\": [],\n",
       "        \"right\": [],\n",
       "        \"bottom\": []\n",
       "      },\n",
       "      \"layout\": {\n",
       "        \"w\": 4,\n",
       "        \"h\": 6,\n",
       "        \"x\": 8,\n",
       "        \"y\": 0\n",
       "      },\n",
       "      \"initialXDomain\": [\n",
       "        -333,\n",
       "        -209\n",
       "      ],\n",
       "      \"initialYDomain\": [\n",
       "        -202,\n",
       "        -30\n",
       "      ]\n",
       "    }\n",
       "  ],\n",
       "  \"trackSourceServers\": [\n",
       "    \"http://higlass.io/api/v1\"\n",
       "  ],\n",
       "  \"locationLocks\": {\n",
       "    \"locksByViewUid\": {},\n",
       "    \"locksDict\": {}\n",
       "  },\n",
       "  \"zoomLocks\": {\n",
       "    \"locksByViewUid\": {},\n",
       "    \"locksDict\": {}\n",
       "  },\n",
       "  \"exportViewUrl\": \"http://higlass.io/api/v1/viewconfs\"\n",
       "}"
      ]
     },
     "execution_count": 9,
     "metadata": {},
     "output_type": "execute_result"
    }
   ],
   "source": [
    "viewconf"
   ]
  },
  {
   "cell_type": "markdown",
   "metadata": {},
   "source": [
    "☝️ This dictionary ultimately tells the JavaScript library what dataset to visualize where and how."
   ]
  },
  {
   "cell_type": "code",
   "execution_count": null,
   "metadata": {},
   "outputs": [],
   "source": []
  }
 ],
 "metadata": {
  "kernelspec": {
   "display_name": "Python 3",
   "language": "python",
   "name": "python3"
  },
  "language_info": {
   "codemirror_mode": {
    "name": "ipython",
    "version": 3
   },
   "file_extension": ".py",
   "mimetype": "text/x-python",
   "name": "python",
   "nbconvert_exporter": "python",
   "pygments_lexer": "ipython3",
   "version": "3.7.3"
  }
 },
 "nbformat": 4,
 "nbformat_minor": 4
}

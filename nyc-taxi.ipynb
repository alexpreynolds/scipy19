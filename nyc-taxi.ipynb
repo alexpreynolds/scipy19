{
 "cells": [
  {
   "cell_type": "markdown",
   "metadata": {},
   "source": [
    "# NYC Taxi Rides\n",
    "\n",
    "In this notebook we show some more advanced features that are useful for building composed views, a.k.a., dashboards."
   ]
  },
  {
   "cell_type": "code",
   "execution_count": 1,
   "metadata": {},
   "outputs": [],
   "source": [
    "%load_ext autoreload\n",
    "%autoreload 2"
   ]
  },
  {
   "cell_type": "markdown",
   "metadata": {},
   "source": [
    "### Download the data"
   ]
  },
  {
   "cell_type": "code",
   "execution_count": 42,
   "metadata": {},
   "outputs": [
    {
     "name": "stdout",
     "output_type": "stream",
     "text": [
      "File already exist. To overwrite pass `overwrite=True`\n",
      "File already exist. To overwrite pass `overwrite=True`\n"
     ]
    }
   ],
   "source": [
    "import pandas as pd\n",
    "from utils import download_file\n",
    "\n",
    "nyc_data = pd.read_csv('data/nyc-taxi.csv')\n",
    "\n",
    "for data in nyc_data.iterrows():\n",
    "    download_file(*data[1])"
   ]
  },
  {
   "cell_type": "markdown",
   "metadata": {},
   "source": [
    "### Create tilesets"
   ]
  },
  {
   "cell_type": "code",
   "execution_count": 46,
   "metadata": {},
   "outputs": [],
   "source": [
    "from higlass.tilesets import cooler\n",
    "\n",
    "dropoff = {\n",
    "    'count': cooler('data/nyctaxi-dropoff.count.1m.mcool', name='Total Dropoffs'),\n",
    "}\n",
    "pickup = {\n",
    "    'count': cooler('data/nyctaxi-pickup.count.1m.mcool', name='Total Pickups'),\n",
    "}"
   ]
  },
  {
   "cell_type": "markdown",
   "metadata": {},
   "source": [
    "### Visualize pickups and drop-offs"
   ]
  },
  {
   "cell_type": "code",
   "execution_count": 4,
   "metadata": {},
   "outputs": [],
   "source": [
    "from higlass import display\n",
    "from higlass.client import Track, View\n",
    "\n",
    "nyc_x=[11789206, 11827005]\n",
    "nyc_y=[15044734, 15081957]"
   ]
  },
  {
   "cell_type": "code",
   "execution_count": 5,
   "metadata": {},
   "outputs": [
    {
     "data": {
      "application/vnd.jupyter.widget-view+json": {
       "model_id": "69d249bfbbba4f7d82e7aadb7a86ccde",
       "version_major": 2,
       "version_minor": 0
      },
      "text/plain": [
       "HiGlassDisplay(hg_options={'isDarkTheme': False}, viewconf={'editable': True, 'views': [{'uid': 'NcYdYV40Qnu9a…"
      ]
     },
     "metadata": {},
     "output_type": "display_data"
    }
   ],
   "source": [
    "view_config = {\n",
    "    'width': 6,\n",
    "    'initialXDomain': nyc_x,\n",
    "    'initialYDomain': nyc_y,\n",
    "}\n",
    "\n",
    "pickups_view = View(\n",
    "    x=0,\n",
    "    tracks=[Track('heatmap', tileset=pickup['count'], height=400)],\n",
    "    **view_config\n",
    ")\n",
    "\n",
    "dropoffs_view = View(\n",
    "    x=6,\n",
    "    tracks=[Track('heatmap', tileset=dropoff['count'], height=400)],\n",
    "    **view_config\n",
    ")\n",
    "\n",
    "widget, server, viewconf = display([pickups_view, dropoffs_view])\n",
    "\n",
    "widget"
   ]
  },
  {
   "cell_type": "markdown",
   "metadata": {},
   "source": [
    "### Synchronize view location and zoom level"
   ]
  },
  {
   "cell_type": "code",
   "execution_count": 6,
   "metadata": {},
   "outputs": [
    {
     "data": {
      "application/vnd.jupyter.widget-view+json": {
       "model_id": "d9169d0b4b384bc58c68ec7fe6d1692d",
       "version_major": 2,
       "version_minor": 0
      },
      "text/plain": [
       "HiGlassDisplay(hg_options={'isDarkTheme': False}, viewconf={'editable': True, 'views': [{'uid': 'NcYdYV40Qnu9a…"
      ]
     },
     "metadata": {},
     "output_type": "display_data"
    }
   ],
   "source": [
    "widget, server, viewconf = display(\n",
    "    views=[pickups_view, dropoffs_view],\n",
    "    location_syncs=[(pickups_view, dropoffs_view)],\n",
    "    zoom_syncs=[(pickups_view, dropoffs_view)],\n",
    ")\n",
    "\n",
    "widget"
   ]
  },
  {
   "cell_type": "markdown",
   "metadata": {},
   "source": [
    "### Add crosshairs and tooltips"
   ]
  },
  {
   "cell_type": "code",
   "execution_count": 7,
   "metadata": {},
   "outputs": [
    {
     "data": {
      "application/vnd.jupyter.widget-view+json": {
       "model_id": "a3c4f971b4fd4f81b34e9d9172b383a9",
       "version_major": 2,
       "version_minor": 0
      },
      "text/plain": [
       "HiGlassDisplay(hg_options={'isDarkTheme': False}, viewconf={'editable': True, 'views': [{'uid': 'NUywEkqcQjyvk…"
      ]
     },
     "metadata": {},
     "output_type": "display_data"
    }
   ],
   "source": [
    "## Important change ##########\n",
    "track_config = {\n",
    "    'track_type': 'heatmap',\n",
    "    'height': 400,\n",
    "    'options': {\n",
    "        'showMousePosition': True,\n",
    "        'mousePositionColor': 'black',\n",
    "        'showTooltip': True,\n",
    "    }\n",
    "}\n",
    "##############################\n",
    "\n",
    "pickups_view = View(\n",
    "    x=0,\n",
    "    tracks=[Track(tileset=pickup['count'], **track_config)],\n",
    "    **view_config\n",
    ")\n",
    "\n",
    "dropoffs_view = View(\n",
    "    x=6,\n",
    "    tracks=[Track(tileset=dropoff['count'], **track_config)],\n",
    "    **view_config\n",
    ")\n",
    "\n",
    "widget, server, viewconf = display(\n",
    "    views=[pickups_view, dropoffs_view],\n",
    "    location_syncs=[(pickups_view, dropoffs_view)],\n",
    "    zoom_syncs=[(pickups_view, dropoffs_view)],\n",
    ")\n",
    "\n",
    "widget"
   ]
  },
  {
   "cell_type": "markdown",
   "metadata": {},
   "source": [
    "### Overview+details"
   ]
  },
  {
   "cell_type": "code",
   "execution_count": 41,
   "metadata": {},
   "outputs": [
    {
     "data": {
      "application/vnd.jupyter.widget-view+json": {
       "model_id": "b558fec0546b478f9cc2745e3ed51e8f",
       "version_major": 2,
       "version_minor": 0
      },
      "text/plain": [
       "HiGlassDisplay(hg_options={'isDarkTheme': False}, viewconf={'editable': True, 'views': [{'uid': 'GhBpbpJdRm2Ib…"
      ]
     },
     "metadata": {},
     "output_type": "display_data"
    }
   ],
   "source": [
    "from copy import deepcopy\n",
    "\n",
    "## Important change ##########\n",
    "view_config_details = deepcopy(view_config)\n",
    "view_config_details['y'] = 6\n",
    "view_config_details['initialXDomain'] = [11820321, 11826194]\n",
    "view_config_details['initialYDomain'] = [15073235, 15079019]\n",
    "\n",
    "pickups_view_details = View(\n",
    "    x=0,\n",
    "    tracks=[Track(tileset=pickup['count'], **track_config)],\n",
    "    **view_config_details\n",
    ")\n",
    "\n",
    "dropoffs_view_details = View(\n",
    "    x=6,\n",
    "    tracks=[Track(tileset=dropoff['count'], **track_config)],\n",
    "    **view_config_details\n",
    ")\n",
    "\n",
    "pickups_view_overview = View(\n",
    "    x=0,\n",
    "    tracks=[\n",
    "        Track(tileset=pickup['count'], **track_config),\n",
    "        Track('viewport-projection-center', fromViewUid=pickups_view_details.uid),\n",
    "    ],\n",
    "    **view_config\n",
    ")\n",
    "\n",
    "dropoffs_view_overview = View(\n",
    "    x=6,\n",
    "    tracks=[\n",
    "        Track(tileset=dropoff['count'], **track_config),\n",
    "        Track('viewport-projection-center', fromViewUid=dropoffs_view_details.uid),\n",
    "    ],\n",
    "    **view_config\n",
    ")\n",
    "##############################\n",
    "\n",
    "widget, server, viewconf = display(\n",
    "    views=[\n",
    "        pickups_view_overview, dropoffs_view_overview,\n",
    "        pickups_view_details, dropoffs_view_details\n",
    "    ],\n",
    "    location_syncs=[\n",
    "        (pickups_view_overview, dropoffs_view_overview),\n",
    "        (pickups_view_details, dropoffs_view_details)\n",
    "    ],\n",
    "    zoom_syncs=[\n",
    "        (pickups_view_overview, dropoffs_view_overview),\n",
    "        (pickups_view_details, dropoffs_view_details)\n",
    "    ],\n",
    ")\n",
    "\n",
    "widget"
   ]
  },
  {
   "cell_type": "markdown",
   "metadata": {},
   "source": [
    "### Compare different attributes through data operations"
   ]
  },
  {
   "cell_type": "code",
   "execution_count": 28,
   "metadata": {},
   "outputs": [
    {
     "data": {
      "application/vnd.jupyter.widget-view+json": {
       "model_id": "4dfe87293ddd4801b53dea92efa7b3ca",
       "version_major": 2,
       "version_minor": 0
      },
      "text/plain": [
       "HiGlassDisplay(hg_options={'isDarkTheme': False}, viewconf={'editable': True, 'views': [{'uid': 'RIyZIThBT_uGC…"
      ]
     },
     "metadata": {},
     "output_type": "display_data"
    }
   ],
   "source": [
    "track_config = {\n",
    "    'track_type': 'heatmap',\n",
    "    'height': 400,\n",
    "    'options': {\n",
    "        'showMousePosition': True,\n",
    "        'mousePositionColor': 'black',\n",
    "        'showTooltip': True\n",
    "    }\n",
    "}\n",
    "\n",
    "pickups_track = Track(tileset=pickup['count'], **track_config)\n",
    "dropoffs_track = Track(tileset=dropoff['count'], **track_config)\n",
    "\n",
    "pickups_view = View(\n",
    "    x=0, tracks=[pickups_track], **view_config\n",
    ")\n",
    "\n",
    "dropoffs_view = View(\n",
    "    x=6, tracks=[dropoffs_track], **view_config\n",
    ")\n",
    "\n",
    "widget, server, viewconf = display(\n",
    "    views=[pickups_view, dropoffs_view],\n",
    "    location_syncs=[(pickups_view, dropoffs_view)],\n",
    "    zoom_syncs=[(pickups_view, dropoffs_view)],\n",
    ")\n",
    "\n",
    "widget"
   ]
  },
  {
   "cell_type": "markdown",
   "metadata": {},
   "source": [
    "Let's divide pickups by dropoff by directly adjusting the view config"
   ]
  },
  {
   "cell_type": "code",
   "execution_count": 35,
   "metadata": {},
   "outputs": [
    {
     "data": {
      "application/vnd.jupyter.widget-view+json": {
       "model_id": "610a034be84041dda05bd1ba7c8cba0e",
       "version_major": 2,
       "version_minor": 0
      },
      "text/plain": [
       "HiGlassDisplay(viewconf={'editable': True, 'views': [{'uid': 'RaCRuA5yTB-Qje_vnEORIQ', 'tracks': {'top': [], '…"
      ]
     },
     "metadata": {},
     "output_type": "display_data"
    }
   ],
   "source": [
    "from higlass.client import ViewConf\n",
    "from higlass.viewer import HiGlassDisplay\n",
    "\n",
    "diverging_colormap = [\n",
    "    '#0085cc',\n",
    "    '#62cef6',\n",
    "    '#eeeeee',\n",
    "    '#ff66b8',\n",
    "    '#bf0066',\n",
    "]\n",
    "\n",
    "diff_track = (\n",
    "    pickups_track\n",
    "        .change_options(\n",
    "            name='Pickups divided by dropoffs',\n",
    "            colorRange=diverging_colormap)\n",
    "        .change_attributes(\n",
    "            server=server.api_address,\n",
    "            # With this magic setup we tell HiGlass to divide pickups by dropoffs\n",
    "            data={\n",
    "                'type': 'divided',\n",
    "                'children': [{\n",
    "                    'server': server.api_address,\n",
    "                    'tilesetUid': pickup['count'].uuid\n",
    "                }, {\n",
    "                    'server': server.api_address,\n",
    "                    'tilesetUid': dropoff['count'].uuid\n",
    "                }]\n",
    "            }\n",
    "        )\n",
    ")\n",
    "\n",
    "diff_view_config = deepcopy(view_config)\n",
    "diff_view_config['width'] = 12\n",
    "diff_view = View(tracks=[diff_track], **diff_view_config)\n",
    "\n",
    "# Finally, we need to create a new view config and pass that into the widget\n",
    "HiGlassDisplay(viewconf=ViewConf([diff_view]).to_dict())"
   ]
  },
  {
   "cell_type": "markdown",
   "metadata": {},
   "source": [
    "- **Pink** indicates areas with more *pickups*\n",
    "- **Blue** indicates areas with more *dropoffs*"
   ]
  },
  {
   "cell_type": "markdown",
   "metadata": {},
   "source": [
    "### Superimpose tracks"
   ]
  },
  {
   "cell_type": "code",
   "execution_count": 38,
   "metadata": {},
   "outputs": [
    {
     "data": {
      "application/vnd.jupyter.widget-view+json": {
       "model_id": "cad90ccddad347439abfb8231426d4e3",
       "version_major": 2,
       "version_minor": 0
      },
      "text/plain": [
       "HiGlassDisplay(hg_options={'isDarkTheme': False}, viewconf={'editable': True, 'views': [{'uid': 'MiiJ-qqPRQOGE…"
      ]
     },
     "metadata": {},
     "output_type": "display_data"
    }
   ],
   "source": [
    "view_config_together = deepcopy(view_config)\n",
    "view_config_together['width'] = 12\n",
    "\n",
    "## Important change ##########\n",
    "heatmap_track_config = {\n",
    "    'track_type': 'heatmap',\n",
    "    'height': 400,\n",
    "    'options': {\n",
    "        'backgroundColor': 'transparent',\n",
    "        'colorRange': [\n",
    "            'rgba(255, 255, 255, 0.05)',\n",
    "            'rgba(245, 166,  35, 0.4)',\n",
    "            'rgba(208,   2,  27, 0.85)',\n",
    "            'black',\n",
    "        ],\n",
    "    }\n",
    "}\n",
    "mapbox_track_config = {\n",
    "    'track_type': 'mapbox',\n",
    "    'position': 'center',\n",
    "    'height': 400,\n",
    "    'options': {\n",
    "        'accessToken': 'pk.eyJ1IjoiZmxla3NjaGFzIiwiYSI6ImNqZXB2aWd4NDBmZTIzM3BjdGZudTFob2oifQ.Jnmp1xWJyS4_lRhzrZAFBQ',\n",
    "        'style': 'light-v9',\n",
    "        'minPos': [1],\n",
    "        'maxPos': [40075016],\n",
    "        'name': '© Mapbox',\n",
    "        'labelPosition': 'bottomLeft',\n",
    "    }\n",
    "}\n",
    "##############################\n",
    "\n",
    "pickups_only = View(\n",
    "    tracks=[\n",
    "        Track(**mapbox_track_config),\n",
    "        Track(tileset=dropoff['count'], **heatmap_track_config),\n",
    "    ],\n",
    "    **view_config_together\n",
    ")\n",
    "\n",
    "widget, server, viewconf = display([pickups_only])\n",
    "\n",
    "widget"
   ]
  },
  {
   "cell_type": "markdown",
   "metadata": {},
   "source": [
    "### Finally... let's turn the lights off"
   ]
  },
  {
   "cell_type": "code",
   "execution_count": 40,
   "metadata": {},
   "outputs": [
    {
     "data": {
      "application/vnd.jupyter.widget-view+json": {
       "model_id": "f2a5b18fb37e41e3b518963f0cbc5be8",
       "version_major": 2,
       "version_minor": 0
      },
      "text/plain": [
       "HiGlassDisplay(hg_options={'isDarkTheme': True}, viewconf={'editable': True, 'views': [{'uid': 'RJw2rliKStylwP…"
      ]
     },
     "metadata": {},
     "output_type": "display_data"
    }
   ],
   "source": [
    "heatmap_track_config = {\n",
    "    'track_type': 'heatmap',\n",
    "    'height': 400,\n",
    "    'options': {\n",
    "        'backgroundColor': 'transparent',\n",
    "        ## Important change ##########\n",
    "        'colorRange': [\n",
    "            'rgba(0, 0, 0, 0.01)',\n",
    "            'rgba(34, 46, 84, 0.25)',\n",
    "            'rgba(68, 141, 178, 0.5)',\n",
    "            'rgba(104, 191, 48, 0.7)',\n",
    "            'rgba(253, 255, 84, 0.8)',\n",
    "            'rgba(253, 255, 255, 0.9)',\n",
    "        ],\n",
    "        ##############################\n",
    "        'colorbarBackgroundColor': 'black',\n",
    "        'colorbarBackgroundOpacity': 0.5,\n",
    "        'labelColor': '#ffffff',\n",
    "        'labelTextOpacity': 0.66,\n",
    "        'labelBackgroundColor': 'black',\n",
    "        'labelBackgroundOpacity': 0.5,\n",
    "    }\n",
    "}\n",
    "mapbox_track_config = {\n",
    "    'track_type': 'mapbox',\n",
    "    'position': 'center',\n",
    "    'height': 400,\n",
    "    'options': {\n",
    "        'accessToken': 'pk.eyJ1IjoiZmxla3NjaGFzIiwiYSI6ImNqZXB2aWd4NDBmZTIzM3BjdGZudTFob2oifQ.Jnmp1xWJyS4_lRhzrZAFBQ',\n",
    "        'style': 'dark-v8',\n",
    "        'minPos': [1],\n",
    "        'maxPos': [40075016],\n",
    "        'name': '© Mapbox',\n",
    "        'labelPosition': 'bottomLeft',\n",
    "        'labelColor': '#ffffff',\n",
    "        'labelTextOpacity': 0.66,\n",
    "        'labelBackgroundColor': 'black',\n",
    "        'labelBackgroundOpacity': 0.5,\n",
    "    }\n",
    "}\n",
    "\n",
    "pickups_in_dark = View(\n",
    "    tracks=[\n",
    "        Track(**mapbox_track_config),\n",
    "        Track(tileset=dropoff['count'], **heatmap_track_config),\n",
    "    ],\n",
    "    **view_config_together\n",
    ")\n",
    "\n",
    "## Important change ##########\n",
    "widget, server, viewconf = display([pickups_in_dark], dark_mode=True)\n",
    "##############################\n",
    "\n",
    "widget"
   ]
  },
  {
   "cell_type": "markdown",
   "metadata": {},
   "source": [
    "---\n",
    "---\n",
    "---\n",
    "\n",
    "## Other cool NYC properties worth looking at and comparing"
   ]
  },
  {
   "cell_type": "code",
   "execution_count": 44,
   "metadata": {},
   "outputs": [
    {
     "name": "stdout",
     "output_type": "stream",
     "text": [
      "File already exist. To overwrite pass `overwrite=True`\n",
      "File already exist. To overwrite pass `overwrite=True`\n",
      "File already exist. To overwrite pass `overwrite=True`\n",
      "File already exist. To overwrite pass `overwrite=True`\n",
      "File already exist. To overwrite pass `overwrite=True`\n",
      "File already exist. To overwrite pass `overwrite=True`\n",
      "File already exist. To overwrite pass `overwrite=True`\n",
      "File already exist. To overwrite pass `overwrite=True`\n",
      "File already exist. To overwrite pass `overwrite=True`\n",
      "File already exist. To overwrite pass `overwrite=True`\n"
     ]
    }
   ],
   "source": [
    "import pandas as pd\n",
    "from utils import download_file\n",
    "\n",
    "nyc_data = pd.read_csv('data/nyc-taxi-extended.csv')\n",
    "\n",
    "for data in nyc_data.iterrows():\n",
    "    download_file(*data[1])"
   ]
  },
  {
   "cell_type": "code",
   "execution_count": 45,
   "metadata": {},
   "outputs": [],
   "source": [
    "from higlass.tilesets import cooler\n",
    "\n",
    "dropoff = {\n",
    "    'count': cooler('data/nyctaxi-dropoff.count.1m.mcool', name='Total Dropoffs'),\n",
    "    'passenger_count': cooler('data/nyctaxi-dropoff.passenger_count.mean.1m.mcool', name='Dropoffs Mean Passanger Count'),\n",
    "    'tip_amount': cooler('data/nyctaxi-dropoff.tip_amount.mean.1m.mcool', name='Dropoffs Mean Tip'),\n",
    "    'total_amount': cooler('data/nyctaxi-dropoff.total_amount.mean.1m.mcool', name='Dropoffs Mean Total Amount'),\n",
    "    'trip_distance': cooler('data/nyctaxi-dropoff.trip_distance.mean.1m.mcool', name='Dropoffs Mean Trip Distance'),\n",
    "}\n",
    "pickup = {\n",
    "    'count': cooler('data/nyctaxi-pickup.count.1m.mcool', name='Total Pickups'),\n",
    "    'passenger_count': cooler('data/nyctaxi-pickup.passenger_count.mean.1m.mcool', name='Pickups Mean Passanger Count'),\n",
    "    'tip_amount': cooler('data/nyctaxi-pickup.tip_amount.mean.1m.mcool', name='Pickups Mean Tip'),\n",
    "    'total_amount': cooler('data/nyctaxi-pickup.total_amount.mean.1m.mcool', name='Pickups Mean Total Amount'),\n",
    "    'trip_distance': cooler('data/nyctaxi-pickup.trip_distance.mean.1m.mcool', name='Pickups Mean Trip Distance'),\n",
    "}"
   ]
  },
  {
   "cell_type": "code",
   "execution_count": 36,
   "metadata": {},
   "outputs": [
    {
     "data": {
      "application/vnd.jupyter.widget-view+json": {
       "model_id": "0a7a6824c0284d568d356c4436070de0",
       "version_major": 2,
       "version_minor": 0
      },
      "text/plain": [
       "HiGlassDisplay(hg_options={'isDarkTheme': False}, viewconf={'editable': True, 'views': [{'uid': 'KwtWjwVbRveW7…"
      ]
     },
     "metadata": {},
     "output_type": "display_data"
    }
   ],
   "source": [
    "## Important change ##########\n",
    "track_config = {\n",
    "    'track_type': 'heatmap',\n",
    "    'height': 400,\n",
    "    'options': {\n",
    "        'showMousePosition': True,\n",
    "        'mousePositionColor': 'black',\n",
    "        'showTooltip': True,\n",
    "    }\n",
    "}\n",
    "##############################\n",
    "\n",
    "pickup_amount_track = Track(tileset=pickup['total_amount'], **track_config)\n",
    "pickup_dist_track = Track(tileset=pickup['trip_distance'], **track_config)\n",
    "dropoff_amount_track = Track(tileset=dropoff['total_amount'], **track_config)\n",
    "dropoff_dist_track = Track(tileset=dropoff['trip_distance'], **track_config)\n",
    "\n",
    "pickup_amount_view = View(x=0, y=0, tracks=[pickup_amount_track], **view_config)\n",
    "pickup_dist_view = View(x=0, y=6, tracks=[pickup_dist_track], **view_config)\n",
    "dropoff_amount_view = View(x=6, y=0, tracks=[dropoff_amount_track], **view_config)\n",
    "dropoff_dist_view = View(x=6, y=6, tracks=[dropoff_dist_track], **view_config)\n",
    "\n",
    "widget, server, viewconf = display(\n",
    "    views=[\n",
    "        pickup_amount_view, pickup_dist_view,\n",
    "        dropoff_amount_view, dropoff_dist_view\n",
    "    ],\n",
    "    location_syncs=[(\n",
    "        pickup_amount_view, pickup_dist_view,\n",
    "        dropoff_amount_view, dropoff_dist_view\n",
    "    )],\n",
    "    zoom_syncs=[(\n",
    "        pickup_amount_view, pickup_dist_view,\n",
    "        dropoff_amount_view, dropoff_dist_view\n",
    "    )],\n",
    ")\n",
    "\n",
    "widget"
   ]
  },
  {
   "cell_type": "code",
   "execution_count": 37,
   "metadata": {},
   "outputs": [
    {
     "data": {
      "application/vnd.jupyter.widget-view+json": {
       "model_id": "8877c53f605f47208dbfc4f957888dc3",
       "version_major": 2,
       "version_minor": 0
      },
      "text/plain": [
       "HiGlassDisplay(viewconf={'editable': True, 'views': [{'uid': 'I-iKW2jQTE2NdiaGEabnAA', 'tracks': {'top': [], '…"
      ]
     },
     "metadata": {},
     "output_type": "display_data"
    }
   ],
   "source": [
    "from higlass.client import ViewConf\n",
    "from higlass.viewer import HiGlassDisplay\n",
    "\n",
    "## Important change ##########\n",
    "pickup_div_track = (\n",
    "    pickup_amount_track\n",
    "        .change_options(\n",
    "            name='Pickups: Amount by Distance')\n",
    "        .change_attributes(\n",
    "            server=server.api_address,\n",
    "            # With this magic setup we tell HiGlass to divide\n",
    "            # total amount by the trip distance\n",
    "            data={\n",
    "                'type': 'divided',\n",
    "                'children': [{\n",
    "                    'server': server.api_address,\n",
    "                    'tilesetUid': pickup['total_amount'].uuid\n",
    "                }, {\n",
    "                    'server': server.api_address,\n",
    "                    'tilesetUid': pickup['trip_distance'].uuid\n",
    "                }]\n",
    "            }\n",
    "        )\n",
    ")\n",
    "##############################\n",
    "\n",
    "dropoff_div_track = (\n",
    "    dropoff_amount_track\n",
    "        .change_options(\n",
    "            name='Dropoffs: Amount by Distance')\n",
    "        .change_attributes(\n",
    "            server=server.api_address,\n",
    "            # With this magic setup we tell HiGlass to divide\n",
    "            # total amount by the trip distance\n",
    "            data={\n",
    "                'type': 'divided',\n",
    "                'children': [{\n",
    "                    'server': server.api_address,\n",
    "                    'tilesetUid': dropoff['total_amount'].uuid\n",
    "                }, {\n",
    "                    'server': server.api_address,\n",
    "                    'tilesetUid': dropoff['trip_distance'].uuid\n",
    "                }]\n",
    "            }\n",
    "        )\n",
    ")\n",
    "\n",
    "\n",
    "pickup_amount_by_dist_view = View(\n",
    "    x=0, y=0, tracks=[pickup_div_track], **view_config\n",
    ")\n",
    "\n",
    "dropoff_amount_by_dist_view = View(\n",
    "    x=6, y=0, tracks=[dropoff_div_track], **view_config\n",
    ")\n",
    "\n",
    "## Important change ##########\n",
    "div_viewconf = ViewConf([\n",
    "    pickup_amount_by_dist_view,\n",
    "    dropoff_amount_by_dist_view\n",
    "],\n",
    "location_syncs=[(\n",
    "    pickup_amount_by_dist_view,\n",
    "    dropoff_amount_by_dist_view\n",
    ")],\n",
    "zoom_syncs=[(\n",
    "    pickup_amount_by_dist_view,\n",
    "    dropoff_amount_by_dist_view\n",
    ")])\n",
    "\n",
    "\n",
    "HiGlassDisplay(viewconf=div_viewconf.to_dict())\n",
    "##############################"
   ]
  },
  {
   "cell_type": "code",
   "execution_count": null,
   "metadata": {},
   "outputs": [],
   "source": []
  }
 ],
 "metadata": {
  "kernelspec": {
   "display_name": "Python 3",
   "language": "python",
   "name": "python3"
  },
  "language_info": {
   "codemirror_mode": {
    "name": "ipython",
    "version": 3
   },
   "file_extension": ".py",
   "mimetype": "text/x-python",
   "name": "python",
   "nbconvert_exporter": "python",
   "pygments_lexer": "ipython3",
   "version": "3.7.3"
  }
 },
 "nbformat": 4,
 "nbformat_minor": 2
}

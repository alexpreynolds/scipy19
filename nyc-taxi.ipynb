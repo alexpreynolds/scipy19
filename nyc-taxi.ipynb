{
 "cells": [
  {
   "cell_type": "markdown",
   "metadata": {},
   "source": [
    "# NYC Taxi Rides\n",
    "\n",
    "In this notebook we show some more advanced features that are useful for building composed views, a.k.a., dashboards."
   ]
  },
  {
   "cell_type": "code",
   "execution_count": 1,
   "metadata": {},
   "outputs": [],
   "source": [
    "%load_ext autoreload\n",
    "%autoreload 2"
   ]
  },
  {
   "cell_type": "markdown",
   "metadata": {},
   "source": [
    "### Download the data"
   ]
  },
  {
   "cell_type": "code",
   "execution_count": 2,
   "metadata": {},
   "outputs": [
    {
     "name": "stdout",
     "output_type": "stream",
     "text": [
      "File already exist. To overwrite pass `overwrite=True`\n",
      "File already exist. To overwrite pass `overwrite=True`\n"
     ]
    }
   ],
   "source": [
    "import pandas as pd\n",
    "from utils import download_file\n",
    "\n",
    "nyc_data = pd.read_csv('data/nyc-taxi.csv')\n",
    "\n",
    "for data in nyc_data.iterrows():\n",
    "    download_file(*data[1])"
   ]
  },
  {
   "cell_type": "markdown",
   "metadata": {},
   "source": [
    "### Create tilesets"
   ]
  },
  {
   "cell_type": "code",
   "execution_count": 3,
   "metadata": {},
   "outputs": [],
   "source": [
    "from higlass.tilesets import cooler\n",
    "\n",
    "dropoff = {\n",
    "    'count': cooler('data/nyctaxi-dropoff.count.1m.mcool', name='Total Dropoffs'),\n",
    "}\n",
    "pickup = {\n",
    "    'count': cooler('data/nyctaxi-pickup.count.1m.mcool', name='Total Pickups'),\n",
    "}"
   ]
  },
  {
   "cell_type": "markdown",
   "metadata": {},
   "source": [
    "### Visualize pickups and drop-offs"
   ]
  },
  {
   "cell_type": "code",
   "execution_count": 4,
   "metadata": {},
   "outputs": [],
   "source": [
    "from higlass import Track, View, display\n",
    "\n",
    "nyc_x=[11789206, 11827005]\n",
    "nyc_y=[15044734, 15081957]"
   ]
  },
  {
   "cell_type": "code",
   "execution_count": 5,
   "metadata": {},
   "outputs": [
    {
     "data": {
      "application/vnd.jupyter.widget-view+json": {
       "model_id": "83622728b96445a3b7ced9061a4b5091",
       "version_major": 2,
       "version_minor": 0
      },
      "text/plain": [
       "HiGlassDisplay(hg_options={'isDarkTheme': False}, viewconf={'editable': True, 'views': [{'uid': 'SD40mnFmSKy7H…"
      ]
     },
     "metadata": {},
     "output_type": "display_data"
    }
   ],
   "source": [
    "view_config = {\n",
    "    'width': 6,\n",
    "    'initialXDomain': nyc_x,\n",
    "    'initialYDomain': nyc_y,\n",
    "}\n",
    "\n",
    "pickups_view = View(\n",
    "    x=0,\n",
    "    tracks=[Track('heatmap', tileset=pickup['count'], height=400)],\n",
    "    **view_config\n",
    ")\n",
    "\n",
    "dropoffs_view = View(\n",
    "    x=6,\n",
    "    tracks=[Track('heatmap', tileset=dropoff['count'], height=400)],\n",
    "    **view_config\n",
    ")\n",
    "\n",
    "widget, server, viewconf = display([pickups_view, dropoffs_view])\n",
    "\n",
    "widget"
   ]
  },
  {
   "cell_type": "markdown",
   "metadata": {},
   "source": [
    "### Synchronize the viewport location and zoom level"
   ]
  },
  {
   "cell_type": "code",
   "execution_count": 6,
   "metadata": {},
   "outputs": [
    {
     "data": {
      "application/vnd.jupyter.widget-view+json": {
       "model_id": "e207166c1dcb41d4b56eb7fbec04a9c5",
       "version_major": 2,
       "version_minor": 0
      },
      "text/plain": [
       "HiGlassDisplay(hg_options={'isDarkTheme': False}, viewconf={'editable': True, 'views': [{'uid': 'SD40mnFmSKy7H…"
      ]
     },
     "metadata": {},
     "output_type": "display_data"
    }
   ],
   "source": [
    "widget, server, viewconf = display(\n",
    "    views=[pickups_view, dropoffs_view],\n",
    "    location_syncs=[(pickups_view, dropoffs_view)],\n",
    "    zoom_syncs=[(pickups_view, dropoffs_view)],\n",
    ")\n",
    "\n",
    "widget"
   ]
  },
  {
   "cell_type": "markdown",
   "metadata": {},
   "source": [
    "### Add crosshairs and tooltips"
   ]
  },
  {
   "cell_type": "code",
   "execution_count": 7,
   "metadata": {},
   "outputs": [
    {
     "data": {
      "application/vnd.jupyter.widget-view+json": {
       "model_id": "39e569ba2f0840e79276d065d68f5fa6",
       "version_major": 2,
       "version_minor": 0
      },
      "text/plain": [
       "HiGlassDisplay(hg_options={'isDarkTheme': False}, viewconf={'editable': True, 'views': [{'uid': 'Dq0IXnp7QSOl2…"
      ]
     },
     "metadata": {},
     "output_type": "display_data"
    }
   ],
   "source": [
    "## Important change ##########\n",
    "track_config = {\n",
    "    'track_type': 'heatmap',\n",
    "    'height': 400,\n",
    "    'options': {\n",
    "        'showMousePosition': True,\n",
    "        'mousePositionColor': 'black',\n",
    "        'showTooltip': True,\n",
    "    }\n",
    "}\n",
    "##############################\n",
    "\n",
    "pickups_view = View(\n",
    "    x=0,\n",
    "    tracks=[Track(tileset=pickup['count'], **track_config)],\n",
    "    **view_config\n",
    ")\n",
    "\n",
    "dropoffs_view = View(\n",
    "    x=6,\n",
    "    tracks=[Track(tileset=dropoff['count'], **track_config)],\n",
    "    **view_config\n",
    ")\n",
    "\n",
    "widget, server, viewconf = display(\n",
    "    views=[pickups_view, dropoffs_view],\n",
    "    location_syncs=[(pickups_view, dropoffs_view)],\n",
    "    zoom_syncs=[(pickups_view, dropoffs_view)],\n",
    ")\n",
    "\n",
    "widget"
   ]
  },
  {
   "cell_type": "markdown",
   "metadata": {},
   "source": [
    "### Overview+details"
   ]
  },
  {
   "cell_type": "code",
   "execution_count": 9,
   "metadata": {},
   "outputs": [
    {
     "data": {
      "application/vnd.jupyter.widget-view+json": {
       "model_id": "eec56a48af994d6198785efe1c9b7b1e",
       "version_major": 2,
       "version_minor": 0
      },
      "text/plain": [
       "HiGlassDisplay(hg_options={'isDarkTheme': False}, viewconf={'editable': True, 'views': [{'uid': 'VgljB7gAQISlG…"
      ]
     },
     "metadata": {},
     "output_type": "display_data"
    }
   ],
   "source": [
    "from copy import deepcopy\n",
    "\n",
    "## Important change ##########\n",
    "view_config_details = deepcopy(view_config)\n",
    "view_config_details['y'] = 6\n",
    "view_config_details['initialXDomain'] = [11811324, 11817197]\n",
    "view_config_details['initialYDomain'] = [15057338, 15060882]\n",
    "\n",
    "pickups_view_details = View(\n",
    "    x=0,\n",
    "    tracks=[Track(tileset=pickup['count'], **track_config)],\n",
    "    **view_config_details\n",
    ")\n",
    "\n",
    "dropoffs_view_details = View(\n",
    "    x=6,\n",
    "    tracks=[Track(tileset=dropoff['count'], **track_config)],\n",
    "    **view_config_details\n",
    ")\n",
    "\n",
    "pickups_view_overview = View(\n",
    "    x=0,\n",
    "    tracks=[\n",
    "        Track(tileset=pickup['count'], **track_config),\n",
    "        Track('viewport-projection-center', fromViewUid=pickups_view_details.uid),\n",
    "    ],\n",
    "    **view_config\n",
    ")\n",
    "\n",
    "dropoffs_view_overview = View(\n",
    "    x=6,\n",
    "    tracks=[\n",
    "        Track(tileset=dropoff['count'], **track_config),\n",
    "        Track('viewport-projection-center', fromViewUid=dropoffs_view_details.uid),\n",
    "    ],\n",
    "    **view_config\n",
    ")\n",
    "##############################\n",
    "\n",
    "widget, server, viewconf = display(\n",
    "    views=[\n",
    "        pickups_view_overview, dropoffs_view_overview,\n",
    "        pickups_view_details, dropoffs_view_details\n",
    "    ],\n",
    "    location_syncs=[\n",
    "        (pickups_view_overview, dropoffs_view_overview),\n",
    "        (pickups_view_details, dropoffs_view_details)\n",
    "    ],\n",
    "    zoom_syncs=[\n",
    "        (pickups_view_overview, dropoffs_view_overview),\n",
    "        (pickups_view_details, dropoffs_view_details)\n",
    "    ],\n",
    ")\n",
    "\n",
    "widget"
   ]
  },
  {
   "cell_type": "markdown",
   "metadata": {},
   "source": [
    "### Compare different attributes through data operations"
   ]
  },
  {
   "cell_type": "code",
   "execution_count": 10,
   "metadata": {},
   "outputs": [
    {
     "data": {
      "application/vnd.jupyter.widget-view+json": {
       "model_id": "d253804378254e5ca0e08d456c8cbfba",
       "version_major": 2,
       "version_minor": 0
      },
      "text/plain": [
       "HiGlassDisplay(hg_options={'isDarkTheme': False}, viewconf={'editable': True, 'views': [{'uid': 'c-8LuQ2lRTOt8…"
      ]
     },
     "metadata": {},
     "output_type": "display_data"
    }
   ],
   "source": [
    "track_config = {\n",
    "    'track_type': 'heatmap',\n",
    "    'height': 400,\n",
    "    'options': {\n",
    "        'showMousePosition': True,\n",
    "        'mousePositionColor': 'black',\n",
    "        'showTooltip': True\n",
    "    }\n",
    "}\n",
    "\n",
    "pickups_track = Track(tileset=pickup['count'], **track_config)\n",
    "dropoffs_track = Track(tileset=dropoff['count'], **track_config)\n",
    "\n",
    "pickups_view = View(\n",
    "    x=0, tracks=[pickups_track], **view_config\n",
    ")\n",
    "\n",
    "dropoffs_view = View(\n",
    "    x=6, tracks=[dropoffs_track], **view_config\n",
    ")\n",
    "\n",
    "widget, server, viewconf = display(\n",
    "    views=[pickups_view, dropoffs_view],\n",
    "    location_syncs=[(pickups_view, dropoffs_view)],\n",
    "    zoom_syncs=[(pickups_view, dropoffs_view)],\n",
    ")\n",
    "\n",
    "widget"
   ]
  },
  {
   "cell_type": "markdown",
   "metadata": {},
   "source": [
    "Let's divide pickups by dropoff by directly adjusting the view config"
   ]
  },
  {
   "cell_type": "code",
   "execution_count": 11,
   "metadata": {},
   "outputs": [
    {
     "data": {
      "application/vnd.jupyter.widget-view+json": {
       "model_id": "fd65b3e121fc455f82341f4af290c498",
       "version_major": 2,
       "version_minor": 0
      },
      "text/plain": [
       "HiGlassDisplay(viewconf={'editable': True, 'views': [{'uid': 'dePr438aR2eIKl3RLRiObw', 'tracks': {'top': [], '…"
      ]
     },
     "metadata": {},
     "output_type": "display_data"
    }
   ],
   "source": [
    "from higlass import ViewConf\n",
    "from higlass.viewer import HiGlassDisplay\n",
    "\n",
    "diverging_colormap = [\n",
    "    '#0085cc',\n",
    "    '#62cef6',\n",
    "    '#eeeeee',\n",
    "    '#ff66b8',\n",
    "    '#bf0066',\n",
    "]\n",
    "\n",
    "diff_track = (\n",
    "    pickups_track\n",
    "        .change_options(\n",
    "            name='Pickups divided by dropoffs',\n",
    "            colorRange=diverging_colormap,\n",
    "            valueScaleMin=0.01,\n",
    "            valueScaleMax=100)\n",
    "        .change_attributes(\n",
    "            server=server.api_address,\n",
    "            ## Important change ##########\n",
    "            data={\n",
    "                'type': 'divided',\n",
    "                'children': [{\n",
    "                    'server': server.api_address,\n",
    "                    'tilesetUid': pickup['count'].uuid\n",
    "                }, {\n",
    "                    'server': server.api_address,\n",
    "                    'tilesetUid': dropoff['count'].uuid\n",
    "                }]\n",
    "            }\n",
    "            ##############################\n",
    "        )\n",
    ")\n",
    "\n",
    "diff_view_config = deepcopy(view_config)\n",
    "diff_view_config['width'] = 12\n",
    "diff_view = View(tracks=[diff_track], **diff_view_config)\n",
    "\n",
    "# Finally, we need to create a new view config and pass that into the widget\n",
    "HiGlassDisplay(viewconf=ViewConf([diff_view]).to_dict())"
   ]
  },
  {
   "cell_type": "markdown",
   "metadata": {},
   "source": [
    "- **Pink** indicates areas with more *pickups*\n",
    "- **Blue** indicates areas with more *dropoffs*\n",
    "\n",
    "### Superimpose tracks"
   ]
  },
  {
   "cell_type": "code",
   "execution_count": 12,
   "metadata": {},
   "outputs": [
    {
     "data": {
      "application/vnd.jupyter.widget-view+json": {
       "model_id": "77d8ec4ccc7544a79d1b40e8b0c5f3a0",
       "version_major": 2,
       "version_minor": 0
      },
      "text/plain": [
       "HiGlassDisplay(viewconf={'editable': True, 'views': [{'uid': 'ftp8Bnm9Qweg2JbGNxvjpw', 'tracks': {'top': [], '…"
      ]
     },
     "metadata": {},
     "output_type": "display_data"
    }
   ],
   "source": [
    "## Important change ##########\n",
    "diverging_colormap = [\n",
    "    'rgba(0, 133, 204, 0.66)',\n",
    "    'rgba(98, 206, 246, 0.33)',\n",
    "    'rgba(238, 238, 238, 0.01)',\n",
    "    'rgba(255, 102, 184, 0.33)',\n",
    "    'rgba(191, 0, 102, 0.66)',\n",
    "]\n",
    "\n",
    "new_diff_track = diff_track.change_options(\n",
    "    # This is critical\n",
    "    backgroundColor='transparent',\n",
    "    colorRange=diverging_colormap\n",
    ")\n",
    "##############################\n",
    "\n",
    "mapbox_track_config = {\n",
    "    'track_type': 'mapbox',\n",
    "    'position': 'center',\n",
    "    'height': 400,\n",
    "    'options': {\n",
    "        'accessToken': 'pk.eyJ1IjoiZmxla3NjaGFzIiwiYSI6ImNqeHRzMWJvZTB4dmQzZ3Q1cThqejB2dGsifQ.j_01IEuxiF8-JhX1BGKueA',\n",
    "        'style': 'light-v9',\n",
    "        'minPos': [1],\n",
    "        'maxPos': [40075016],\n",
    "        'name': '© Mapbox',\n",
    "        'labelPosition': 'bottomLeft',\n",
    "    }\n",
    "}\n",
    "\n",
    "new_diff_view = View(\n",
    "    tracks=[Track(**mapbox_track_config), new_diff_track],\n",
    "    **diff_view_config\n",
    ")\n",
    "\n",
    "HiGlassDisplay(viewconf=ViewConf([new_diff_view]).to_dict())"
   ]
  },
  {
   "cell_type": "markdown",
   "metadata": {},
   "source": [
    "### Finally... let's turn the lights off\n",
    "\n",
    "Everyone loves dark mode! We love it too 😍"
   ]
  },
  {
   "cell_type": "code",
   "execution_count": 13,
   "metadata": {},
   "outputs": [
    {
     "data": {
      "application/vnd.jupyter.widget-view+json": {
       "model_id": "6c92e95f01e24fbd8fdfcc91cfeab4b3",
       "version_major": 2,
       "version_minor": 0
      },
      "text/plain": [
       "HiGlassDisplay(hg_options={'isDarkTheme': True}, viewconf={'editable': True, 'views': [{'uid': 'Obz4WL4lT12Q3m…"
      ]
     },
     "metadata": {},
     "output_type": "display_data"
    }
   ],
   "source": [
    "heatmap_track_config = {\n",
    "    'track_type': 'heatmap',\n",
    "    'height': 400,\n",
    "    'options': {\n",
    "        'backgroundColor': 'transparent',\n",
    "        ## Important change ##########\n",
    "        'colorRange': [\n",
    "            'rgba(0, 0, 0, 0.01)',\n",
    "            'rgba(34, 46, 84, 0.25)',\n",
    "            'rgba(68, 141, 178, 0.5)',\n",
    "            'rgba(104, 191, 48, 0.7)',\n",
    "            'rgba(253, 255, 84, 0.8)',\n",
    "            'rgba(253, 255, 255, 0.9)',\n",
    "        ],\n",
    "        ##############################\n",
    "        'colorbarBackgroundColor': 'black',\n",
    "        'colorbarBackgroundOpacity': 0.5,\n",
    "        'labelColor': '#ffffff',\n",
    "        'labelTextOpacity': 0.66,\n",
    "        'labelBackgroundColor': 'black',\n",
    "        'labelBackgroundOpacity': 0.5,\n",
    "    }\n",
    "}\n",
    "mapbox_track_config = {\n",
    "    'track_type': 'mapbox',\n",
    "    'position': 'center',\n",
    "    'height': 400,\n",
    "    'options': {\n",
    "        'accessToken': 'pk.eyJ1IjoiZmxla3NjaGFzIiwiYSI6ImNqZXB2aWd4NDBmZTIzM3BjdGZudTFob2oifQ.Jnmp1xWJyS4_lRhzrZAFBQ',\n",
    "        'style': 'dark-v8',\n",
    "        'minPos': [1],\n",
    "        'maxPos': [40075016],\n",
    "        'name': '© Mapbox',\n",
    "        'labelPosition': 'bottomLeft',\n",
    "        'labelColor': '#ffffff',\n",
    "        'labelTextOpacity': 0.66,\n",
    "        'labelBackgroundColor': 'black',\n",
    "        'labelBackgroundOpacity': 0.5,\n",
    "    }\n",
    "}\n",
    "\n",
    "pickups_in_dark = View(\n",
    "    tracks=[\n",
    "        Track(**mapbox_track_config),\n",
    "        Track(tileset=dropoff['count'], **heatmap_track_config),\n",
    "    ],\n",
    "    **diff_view_config\n",
    ")\n",
    "\n",
    "## Important change ##########\n",
    "widget, server, viewconf = display([pickups_in_dark], dark_mode=True)\n",
    "##############################\n",
    "\n",
    "widget"
   ]
  },
  {
   "cell_type": "markdown",
   "metadata": {},
   "source": [
    "---\n",
    "---\n",
    "---\n",
    "\n",
    "## Other cool NYC properties worth looking at and comparing"
   ]
  },
  {
   "cell_type": "code",
   "execution_count": null,
   "metadata": {},
   "outputs": [],
   "source": [
    "import pandas as pd\n",
    "from utils import download_file\n",
    "\n",
    "nyc_data = pd.read_csv('data/nyc-taxi-extended.csv')\n",
    "\n",
    "for data in nyc_data.iterrows():\n",
    "    download_file(*data[1])"
   ]
  },
  {
   "cell_type": "code",
   "execution_count": null,
   "metadata": {},
   "outputs": [],
   "source": [
    "from higlass.tilesets import cooler\n",
    "\n",
    "dropoff = {\n",
    "    'count': cooler('data/nyctaxi-dropoff.count.1m.mcool', name='Total Dropoffs'),\n",
    "    'passenger_count': cooler('data/nyctaxi-dropoff.passenger_count.mean.1m.mcool', name='Dropoffs Mean Passanger Count'),\n",
    "    'tip_amount': cooler('data/nyctaxi-dropoff.tip_amount.mean.1m.mcool', name='Dropoffs Mean Tip'),\n",
    "    'total_amount': cooler('data/nyctaxi-dropoff.total_amount.mean.1m.mcool', name='Dropoffs Mean Total Amount'),\n",
    "    'trip_distance': cooler('data/nyctaxi-dropoff.trip_distance.mean.1m.mcool', name='Dropoffs Mean Trip Distance'),\n",
    "}\n",
    "pickup = {\n",
    "    'count': cooler('data/nyctaxi-pickup.count.1m.mcool', name='Total Pickups'),\n",
    "    'passenger_count': cooler('data/nyctaxi-pickup.passenger_count.mean.1m.mcool', name='Pickups Mean Passanger Count'),\n",
    "    'tip_amount': cooler('data/nyctaxi-pickup.tip_amount.mean.1m.mcool', name='Pickups Mean Tip'),\n",
    "    'total_amount': cooler('data/nyctaxi-pickup.total_amount.mean.1m.mcool', name='Pickups Mean Total Amount'),\n",
    "    'trip_distance': cooler('data/nyctaxi-pickup.trip_distance.mean.1m.mcool', name='Pickups Mean Trip Distance'),\n",
    "}"
   ]
  },
  {
   "cell_type": "code",
   "execution_count": null,
   "metadata": {},
   "outputs": [],
   "source": [
    "## Important change ##########\n",
    "track_config = {\n",
    "    'track_type': 'heatmap',\n",
    "    'height': 400,\n",
    "    'options': {\n",
    "        'showMousePosition': True,\n",
    "        'mousePositionColor': 'black',\n",
    "        'showTooltip': True,\n",
    "        'heatmapValueScale': 'linear',\n",
    "        'valueScaleMin': 0,\n",
    "    }\n",
    "}\n",
    "##############################\n",
    "\n",
    "pickup_amount_track = Track(tileset=pickup['total_amount'], **track_config).change_options(valueScaleMax=100)\n",
    "pickup_dist_track = Track(tileset=pickup['trip_distance'], **track_config).change_options(valueScaleMax=20)\n",
    "dropoff_amount_track = Track(tileset=dropoff['total_amount'], **track_config).change_options(valueScaleMax=100)\n",
    "dropoff_dist_track = Track(tileset=dropoff['trip_distance'], **track_config).change_options(valueScaleMax=20)\n",
    "\n",
    "pickup_amount_view = View(x=0, y=0, tracks=[pickup_amount_track], **view_config)\n",
    "pickup_dist_view = View(x=0, y=6, tracks=[pickup_dist_track], **view_config)\n",
    "dropoff_amount_view = View(x=6, y=0, tracks=[dropoff_amount_track], **view_config)\n",
    "dropoff_dist_view = View(x=6, y=6, tracks=[dropoff_dist_track], **view_config)\n",
    "\n",
    "widget, server, viewconf = display(\n",
    "    views=[\n",
    "        pickup_amount_view, pickup_dist_view,\n",
    "        dropoff_amount_view, dropoff_dist_view\n",
    "    ],\n",
    "    location_syncs=[(\n",
    "        pickup_amount_view, pickup_dist_view,\n",
    "        dropoff_amount_view, dropoff_dist_view\n",
    "    )],\n",
    "    zoom_syncs=[(\n",
    "        pickup_amount_view, pickup_dist_view,\n",
    "        dropoff_amount_view, dropoff_dist_view\n",
    "    )],\n",
    ")\n",
    "\n",
    "widget"
   ]
  },
  {
   "cell_type": "code",
   "execution_count": null,
   "metadata": {},
   "outputs": [],
   "source": [
    "from higlass import ViewConf\n",
    "from higlass.viewer import HiGlassDisplay\n",
    "\n",
    "## Important change ##########\n",
    "pickup_div_track = (\n",
    "    pickup_amount_track\n",
    "        .change_options(\n",
    "            name='Pickups: Amount by Distance')\n",
    "        .change_attributes(\n",
    "            server=server.api_address,\n",
    "            # With this magic setup we tell HiGlass to divide\n",
    "            # total amount by the trip distance\n",
    "            data={\n",
    "                'type': 'divided',\n",
    "                'children': [{\n",
    "                    'server': server.api_address,\n",
    "                    'tilesetUid': pickup['total_amount'].uuid\n",
    "                }, {\n",
    "                    'server': server.api_address,\n",
    "                    'tilesetUid': pickup['trip_distance'].uuid\n",
    "                }]\n",
    "            }\n",
    "        )\n",
    ")\n",
    "##############################\n",
    "\n",
    "dropoff_div_track = (\n",
    "    dropoff_amount_track\n",
    "        .change_options(\n",
    "            name='Dropoffs: Amount by Distance')\n",
    "        .change_attributes(\n",
    "            server=server.api_address,\n",
    "            # With this magic setup we tell HiGlass to divide\n",
    "            # total amount by the trip distance\n",
    "            data={\n",
    "                'type': 'divided',\n",
    "                'children': [{\n",
    "                    'server': server.api_address,\n",
    "                    'tilesetUid': dropoff['total_amount'].uuid\n",
    "                }, {\n",
    "                    'server': server.api_address,\n",
    "                    'tilesetUid': dropoff['trip_distance'].uuid\n",
    "                }]\n",
    "            }\n",
    "        )\n",
    ")\n",
    "\n",
    "\n",
    "pickup_amount_by_dist_view = View(\n",
    "    x=0, y=0, tracks=[pickup_div_track], **view_config\n",
    ")\n",
    "\n",
    "dropoff_amount_by_dist_view = View(\n",
    "    x=6, y=0, tracks=[dropoff_div_track], **view_config\n",
    ")\n",
    "\n",
    "## Important change ##########\n",
    "div_viewconf = ViewConf([\n",
    "    pickup_amount_by_dist_view,\n",
    "    dropoff_amount_by_dist_view\n",
    "],\n",
    "location_syncs=[(\n",
    "    pickup_amount_by_dist_view,\n",
    "    dropoff_amount_by_dist_view\n",
    ")],\n",
    "zoom_syncs=[(\n",
    "    pickup_amount_by_dist_view,\n",
    "    dropoff_amount_by_dist_view\n",
    ")])\n",
    "\n",
    "\n",
    "HiGlassDisplay(viewconf=div_viewconf.to_dict())\n",
    "##############################"
   ]
  },
  {
   "cell_type": "code",
   "execution_count": null,
   "metadata": {},
   "outputs": [],
   "source": []
  }
 ],
 "metadata": {
  "kernelspec": {
   "display_name": "Python 3",
   "language": "python",
   "name": "python3"
  },
  "language_info": {
   "codemirror_mode": {
    "name": "ipython",
    "version": 3
   },
   "file_extension": ".py",
   "mimetype": "text/x-python",
   "name": "python",
   "nbconvert_exporter": "python",
   "pygments_lexer": "ipython3",
   "version": "3.7.3"
  }
 },
 "nbformat": 4,
 "nbformat_minor": 2
}

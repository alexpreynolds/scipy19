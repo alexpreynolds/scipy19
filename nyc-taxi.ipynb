{
 "cells": [
  {
   "cell_type": "markdown",
   "metadata": {},
   "source": [
    "# NYC Taxi Rides\n",
    "\n",
    "In this notebook we show some more advanced features that are useful for building composed views, a.k.a., dashboards."
   ]
  },
  {
   "cell_type": "code",
   "execution_count": 1,
   "metadata": {},
   "outputs": [],
   "source": [
    "%load_ext autoreload\n",
    "%autoreload 2"
   ]
  },
  {
   "cell_type": "markdown",
   "metadata": {},
   "source": [
    "### Download the data"
   ]
  },
  {
   "cell_type": "code",
   "execution_count": 2,
   "metadata": {},
   "outputs": [
    {
     "name": "stdout",
     "output_type": "stream",
     "text": [
      "File already exist. To overwrite pass `overwrite=True`\n",
      "File already exist. To overwrite pass `overwrite=True`\n",
      "File already exist. To overwrite pass `overwrite=True`\n",
      "File already exist. To overwrite pass `overwrite=True`\n",
      "File already exist. To overwrite pass `overwrite=True`\n",
      "File already exist. To overwrite pass `overwrite=True`\n",
      "File already exist. To overwrite pass `overwrite=True`\n",
      "File already exist. To overwrite pass `overwrite=True`\n",
      "File already exist. To overwrite pass `overwrite=True`\n",
      "File already exist. To overwrite pass `overwrite=True`\n"
     ]
    }
   ],
   "source": [
    "import pandas as pd\n",
    "from utils import download_file\n",
    "\n",
    "nyc_data = pd.read_csv('data/nyc-taxi.csv')\n",
    "\n",
    "for data in nyc_data.iterrows():\n",
    "    download_file(*data[1])"
   ]
  },
  {
   "cell_type": "markdown",
   "metadata": {},
   "source": [
    "### Create tilesets"
   ]
  },
  {
   "cell_type": "code",
   "execution_count": 3,
   "metadata": {},
   "outputs": [],
   "source": [
    "from higlass.tilesets import cooler\n",
    "\n",
    "dropoff = {\n",
    "    'count': cooler('data/nyctaxi-dropoff.count.1m.mcool', name='Total Dropoffs'),\n",
    "    'passenger_count': cooler('data/nyctaxi-dropoff.passenger_count.mean.1m.mcool', name='Dropoffs Mean Passanger Count'),\n",
    "    'tip_amount': cooler('data/nyctaxi-dropoff.tip_amount.mean.1m.mcool', name='Dropoffs Mean Tip'),\n",
    "    'total_amount': cooler('data/nyctaxi-dropoff.total_amount.mean.1m.mcool', name='Dropoffs Mean Total Fair'),\n",
    "    'trip_distance': cooler('data/nyctaxi-dropoff.trip_distance.mean.1m.mcool', name='Dropoffs Mean Trip Distance'),\n",
    "}\n",
    "pickup = {\n",
    "    'count': cooler('data/nyctaxi-pickup.count.1m.mcool', name='Total Pickups'),\n",
    "    'passenger_count': cooler('data/nyctaxi-pickup.passenger_count.mean.1m.mcool', name='Pickups Mean Passanger Count'),\n",
    "    'tip_amount': cooler('data/nyctaxi-pickup.tip_amount.mean.1m.mcool', name='Pickups Mean Tip'),\n",
    "    'total_amount': cooler('data/nyctaxi-pickup.total_amount.mean.1m.mcool', name='Pickups Mean Total Fair'),\n",
    "    'trip_distance': cooler('data/nyctaxi-pickup.trip_distance.mean.1m.mcool', name='Pickups Mean Trip Distance'),\n",
    "}"
   ]
  },
  {
   "cell_type": "markdown",
   "metadata": {},
   "source": [
    "### Visualize pickups and drop-offs"
   ]
  },
  {
   "cell_type": "code",
   "execution_count": 4,
   "metadata": {},
   "outputs": [],
   "source": [
    "from higlass import display\n",
    "from higlass.client import Track, View\n",
    "\n",
    "nyc_x=[11789206, 11827005]\n",
    "nyc_y=[15044734, 15081957]"
   ]
  },
  {
   "cell_type": "code",
   "execution_count": 5,
   "metadata": {},
   "outputs": [
    {
     "data": {
      "application/vnd.jupyter.widget-view+json": {
       "model_id": "85f82f07d09c4563b3b782aa87761f87",
       "version_major": 2,
       "version_minor": 0
      },
      "text/plain": [
       "HiGlassDisplay(hg_options={'isDarkTheme': False}, viewconf={'editable': True, 'views': [{'uid': 'HbKcMwy4SX6Iq…"
      ]
     },
     "metadata": {},
     "output_type": "display_data"
    }
   ],
   "source": [
    "view_config = {\n",
    "    'width': 6,\n",
    "    'initialXDomain': nyc_x,\n",
    "    'initialYDomain': nyc_y,\n",
    "}\n",
    "\n",
    "pickups_view = View(\n",
    "    x=0,\n",
    "    tracks=[Track('heatmap', tileset=pickup['count'], height=400)],\n",
    "    **view_config\n",
    ")\n",
    "\n",
    "dropoffs_view = View(\n",
    "    x=6,\n",
    "    tracks=[Track('heatmap', tileset=dropoff['count'], height=400)],\n",
    "    **view_config\n",
    ")\n",
    "\n",
    "widget, server, viewconf = display([pickups_view, dropoffs_view])\n",
    "\n",
    "widget"
   ]
  },
  {
   "cell_type": "markdown",
   "metadata": {},
   "source": [
    "### Synchronize view location and zoom level"
   ]
  },
  {
   "cell_type": "code",
   "execution_count": 6,
   "metadata": {},
   "outputs": [
    {
     "data": {
      "application/vnd.jupyter.widget-view+json": {
       "model_id": "c297daaa23184b73a7a2d98c2ffb1257",
       "version_major": 2,
       "version_minor": 0
      },
      "text/plain": [
       "HiGlassDisplay(hg_options={'isDarkTheme': False}, viewconf={'editable': True, 'views': [{'uid': 'HbKcMwy4SX6Iq…"
      ]
     },
     "metadata": {},
     "output_type": "display_data"
    }
   ],
   "source": [
    "widget, server, viewconf = display(\n",
    "    views=[pickups_view, dropoffs_view],\n",
    "    location_syncs=[(pickups_view, dropoffs_view)],\n",
    "    zoom_syncs=[(pickups_view, dropoffs_view)],\n",
    ")\n",
    "\n",
    "widget"
   ]
  },
  {
   "cell_type": "markdown",
   "metadata": {},
   "source": [
    "### Add crosshairs and tooltips"
   ]
  },
  {
   "cell_type": "code",
   "execution_count": 7,
   "metadata": {},
   "outputs": [
    {
     "data": {
      "application/vnd.jupyter.widget-view+json": {
       "model_id": "ed300fba962a445cbb57782511d376f2",
       "version_major": 2,
       "version_minor": 0
      },
      "text/plain": [
       "HiGlassDisplay(hg_options={'isDarkTheme': False}, viewconf={'editable': True, 'views': [{'uid': 'Ou4uC-RQRfq2-…"
      ]
     },
     "metadata": {},
     "output_type": "display_data"
    }
   ],
   "source": [
    "## Important change ##########\n",
    "track_config = {\n",
    "    'track_type': 'heatmap',\n",
    "    'height': 400,\n",
    "    'options': {\n",
    "        'showMousePosition': True,\n",
    "        'mousePositionColor': 'black',\n",
    "        'showTooltip': True,\n",
    "    }\n",
    "}\n",
    "##############################\n",
    "\n",
    "pickups_view = View(\n",
    "    x=0,\n",
    "    tracks=[Track(tileset=pickup['count'], **track_config)],\n",
    "    **view_config\n",
    ")\n",
    "\n",
    "dropoffs_view = View(\n",
    "    x=6,\n",
    "    tracks=[Track(tileset=dropoff['count'], **track_config)],\n",
    "    **view_config\n",
    ")\n",
    "\n",
    "widget, server, viewconf = display(\n",
    "    views=[pickups_view, dropoffs_view],\n",
    "    location_syncs=[(pickups_view, dropoffs_view)],\n",
    "    zoom_syncs=[(pickups_view, dropoffs_view)],\n",
    ")\n",
    "\n",
    "widget"
   ]
  },
  {
   "cell_type": "markdown",
   "metadata": {},
   "source": [
    "### Overview+details"
   ]
  },
  {
   "cell_type": "code",
   "execution_count": 8,
   "metadata": {},
   "outputs": [
    {
     "data": {
      "application/vnd.jupyter.widget-view+json": {
       "model_id": "324a7d6f8a6245ce9ca83f166a7eba12",
       "version_major": 2,
       "version_minor": 0
      },
      "text/plain": [
       "HiGlassDisplay(hg_options={'isDarkTheme': False}, viewconf={'editable': True, 'views': [{'uid': 'fB1--ZNuQ-24R…"
      ]
     },
     "metadata": {},
     "output_type": "display_data"
    }
   ],
   "source": [
    "from copy import deepcopy\n",
    "\n",
    "## Important change ##########\n",
    "view_config_details = deepcopy(view_config)\n",
    "view_config_details['y'] = 6\n",
    "view_config_details['initialXDomain'] = [11820321, 11826194]\n",
    "view_config_details['initialYDomain'] = [15073235, 15079019]\n",
    "\n",
    "pickups_view_details = View(\n",
    "    x=0,\n",
    "    tracks=[Track(tileset=pickup['count'], **track_config)],\n",
    "    **view_config_details\n",
    ")\n",
    "\n",
    "dropoffs_view_details = View(\n",
    "    x=6,\n",
    "    tracks=[Track(tileset=dropoff['count'], **track_config)],\n",
    "    **view_config_details\n",
    ")\n",
    "\n",
    "pickups_view_overview = View(\n",
    "    x=0,\n",
    "    tracks=[\n",
    "        Track(tileset=pickup['count'], **track_config),\n",
    "        Track('viewport-projection-center', fromViewUid=pickups_view_details.uid),\n",
    "    ],\n",
    "    **view_config\n",
    ")\n",
    "\n",
    "dropoffs_view_overview = View(\n",
    "    x=6,\n",
    "    tracks=[\n",
    "        Track(tileset=dropoff['count'], **track_config),\n",
    "        Track('viewport-projection-center', fromViewUid=dropoffs_view_details.uid),\n",
    "    ],\n",
    "    **view_config\n",
    ")\n",
    "##############################\n",
    "\n",
    "widget, server, viewconf = display(\n",
    "    views=[\n",
    "        pickups_view_overview, dropoffs_view_overview,\n",
    "        pickups_view_details, dropoffs_view_details\n",
    "    ],\n",
    "    location_syncs=[\n",
    "        (pickups_view_overview, dropoffs_view_overview),\n",
    "        (pickups_view_details, dropoffs_view_details)\n",
    "    ],\n",
    "    zoom_syncs=[\n",
    "        (pickups_view_overview, dropoffs_view_overview),\n",
    "        (pickups_view_details, dropoffs_view_details)\n",
    "    ],\n",
    ")\n",
    "\n",
    "widget"
   ]
  },
  {
   "cell_type": "markdown",
   "metadata": {},
   "source": [
    "### Compare different attributes through data operations"
   ]
  },
  {
   "cell_type": "code",
   "execution_count": 9,
   "metadata": {},
   "outputs": [
    {
     "data": {
      "application/vnd.jupyter.widget-view+json": {
       "model_id": "4e84d8592dd1477bbc0113851ff2a4f6",
       "version_major": 2,
       "version_minor": 0
      },
      "text/plain": [
       "HiGlassDisplay(hg_options={'isDarkTheme': False}, viewconf={'editable': True, 'views': [{'uid': 'AdWrnc5TTvWo2…"
      ]
     },
     "metadata": {},
     "output_type": "display_data"
    }
   ],
   "source": [
    "\"\"\"Dummy data until the `mean.mcool`s are fixed\"\"\"\n",
    "\n",
    "track_config = {\n",
    "    'track_type': 'heatmap',\n",
    "    'height': 400,\n",
    "    'options': {\n",
    "        'showMousePosition': True,\n",
    "        'mousePositionColor': 'black',\n",
    "        'showTooltip': True\n",
    "    }\n",
    "}\n",
    "\n",
    "pickups_view = View(\n",
    "    x=0,\n",
    "    tracks=[Track(tileset=pickup['count'], **track_config)],\n",
    "    **view_config\n",
    ")\n",
    "\n",
    "dropoffs_view = View(\n",
    "    x=6,\n",
    "    tracks=[Track(tileset=dropoff['count'], **track_config)],\n",
    "    **view_config\n",
    ")\n",
    "\n",
    "widget, server, viewconf = display(\n",
    "    views=[pickups_view, dropoffs_view],\n",
    "    location_syncs=[(pickups_view, dropoffs_view)],\n",
    "    zoom_syncs=[(pickups_view, dropoffs_view)],\n",
    ")\n",
    "\n",
    "widget"
   ]
  },
  {
   "cell_type": "markdown",
   "metadata": {},
   "source": [
    "Let's divide pickups by dropoff"
   ]
  },
  {
   "cell_type": "code",
   "execution_count": 10,
   "metadata": {},
   "outputs": [
    {
     "data": {
      "application/vnd.jupyter.widget-view+json": {
       "model_id": "24d8c6e1a28f4a1ba3f0b1cb67d0ef19",
       "version_major": 2,
       "version_minor": 0
      },
      "text/plain": [
       "HiGlassDisplay(viewconf={'editable': True, 'views': [{'uid': 'AdWrnc5TTvWo2NcxqX-NPQ', 'tracks': {'top': [], '…"
      ]
     },
     "metadata": {},
     "output_type": "display_data"
    }
   ],
   "source": [
    "from higlass.client import ViewConf\n",
    "from higlass.viewer import HiGlassDisplay\n",
    "\n",
    "# This gives us the serverless viewconfig\n",
    "pickups_dict = pickups_view.to_dict()\n",
    "\n",
    "# Lets add the server's API endpoint from the previous call\n",
    "pickups_dict['tracks']['center'][0]['server'] = server.api_address\n",
    "\n",
    "# With this magic setup we tell HiGlass to divide pickups by dropoffs\n",
    "pickups_dict['tracks']['center'][0]['data'] = {\n",
    "    'type': 'divided',\n",
    "    'children': [{\n",
    "        'server': server.api_address,\n",
    "        'tilesetUid': pickup['count'].uuid\n",
    "    }, {\n",
    "        'server': server.api_address,\n",
    "        'tilesetUid': dropoff['count'].uuid\n",
    "    }]\n",
    "}\n",
    "\n",
    "# Let's use a diverging color map\n",
    "pickups_dict['tracks']['center'][0]['options']['colorRange'] = [\n",
    "    'rgba(98, 206, 246, 0.85)',\n",
    "    'rgba(0, 149, 229, 0.5)',\n",
    "    'rgba(255, 255, 255, 0.01)',\n",
    "    'rgba(217, 71, 149, 0.5)',\n",
    "    'rgba(255, 102, 184, 0.85)',\n",
    "]\n",
    "\n",
    "pickups_dict['tracks']['center'][0]['options']['name'] = 'Pickups divided by dropoffs'\n",
    "\n",
    "# Finally we need to convert the dict back to a View object\n",
    "new_pickups_view = View.from_dict(pickups_dict)\n",
    "\n",
    "# Finally, we need to create a new view config and pass that into the widget\n",
    "HiGlassDisplay(viewconf=ViewConf([new_pickups_view]).to_dict())"
   ]
  },
  {
   "cell_type": "markdown",
   "metadata": {},
   "source": [
    "☝️ areas with more pickups are shown in pink and areas with more dropoffs in blue"
   ]
  },
  {
   "cell_type": "code",
   "execution_count": 11,
   "metadata": {},
   "outputs": [
    {
     "data": {
      "application/vnd.jupyter.widget-view+json": {
       "model_id": "4ea89e7e5c2047ffb38438714e401c96",
       "version_major": 2,
       "version_minor": 0
      },
      "text/plain": [
       "HiGlassDisplay(hg_options={'isDarkTheme': False}, viewconf={'editable': True, 'views': [{'uid': 'M-cVIhJASz2er…"
      ]
     },
     "metadata": {},
     "output_type": "display_data"
    }
   ],
   "source": [
    "\"\"\"Remove if we can't fix the `.mean.mcool`s\"\"\"\n",
    "\n",
    "## Important change ##########\n",
    "track_config = {\n",
    "    'track_type': 'heatmap',\n",
    "    'height': 400,\n",
    "    'options': {\n",
    "        'showMousePosition': True,\n",
    "        'mousePositionColor': 'black',\n",
    "        'showTooltip': True,\n",
    "    }\n",
    "}\n",
    "##############################\n",
    "\n",
    "pickup_amount_view = View(\n",
    "    x=0,\n",
    "    y=0,\n",
    "    tracks=[Track(tileset=pickup['total_amount'], **track_config)],\n",
    "    **view_config\n",
    ")\n",
    "\n",
    "pickup_dist_view = View(\n",
    "    x=0,\n",
    "    y=6,\n",
    "    tracks=[Track(tileset=pickup['trip_distance'], **track_config)],\n",
    "    **view_config\n",
    ")\n",
    "\n",
    "dropoff_amount_view = View(\n",
    "    x=6,\n",
    "    y=0,\n",
    "    tracks=[Track(tileset=dropoff['total_amount'], **track_config)],\n",
    "    **view_config\n",
    ")\n",
    "\n",
    "dropoff_dist_view = View(\n",
    "    x=6,\n",
    "    y=6,\n",
    "    tracks=[Track(tileset=dropoff['trip_distance'], **track_config)],\n",
    "    **view_config\n",
    ")\n",
    "\n",
    "widget, server, viewconf = display(\n",
    "    views=[\n",
    "        pickup_amount_view, pickup_dist_view,\n",
    "        dropoff_amount_view, dropoff_dist_view\n",
    "    ],\n",
    "    location_syncs=[(\n",
    "        pickup_amount_view, pickup_dist_view,\n",
    "        dropoff_amount_view, dropoff_dist_view\n",
    "    )],\n",
    "    zoom_syncs=[(\n",
    "        pickup_amount_view, pickup_dist_view,\n",
    "        dropoff_amount_view, dropoff_dist_view\n",
    "    )],\n",
    ")\n",
    "\n",
    "widget"
   ]
  },
  {
   "cell_type": "code",
   "execution_count": 13,
   "metadata": {},
   "outputs": [
    {
     "data": {
      "application/vnd.jupyter.widget-view+json": {
       "model_id": "72b36953e35a499084e89ad17a8ed39a",
       "version_major": 2,
       "version_minor": 0
      },
      "text/plain": [
       "HiGlassDisplay(viewconf={'editable': True, 'views': [{'uid': 'M-cVIhJASz2erV6fWZbkTg', 'tracks': {'top': [], '…"
      ]
     },
     "metadata": {},
     "output_type": "display_data"
    }
   ],
   "source": [
    "from higlass.client import ViewConf\n",
    "from higlass.viewer import HiGlassDisplay\n",
    "\n",
    "colormap = [\n",
    "    'rgba(98, 206, 246, 0.85)',\n",
    "    'rgba(0, 149, 229, 0.5)',\n",
    "    'rgba(255, 255, 255, 0.01)',\n",
    "    'rgba(217, 71, 149, 0.5)',\n",
    "    'rgba(255, 102, 184, 0.85)',\n",
    "]\n",
    "\n",
    "# This gives us the serverless viewconfig\n",
    "pickup_amount_dict = pickup_amount_view.to_dict()\n",
    "pickup_amount_dict['tracks']['center'][0]['options']['name'] = 'Pickups: Amount by Distance'\n",
    "\n",
    "# Lets add the server's API endpoint from the previous call\n",
    "pickup_amount_dict['tracks']['center'][0]['server'] = server.api_address\n",
    "\n",
    "# With this magic setup we tell HiGlass to divide pickups by dropoffs\n",
    "pickup_amount_dict['tracks']['center'][0]['data'] = {\n",
    "    'type': 'divided',\n",
    "    'children': [{\n",
    "        'server': server.api_address,\n",
    "        'tilesetUid': pickup['total_amount'].uuid\n",
    "    }, {\n",
    "        'server': server.api_address,\n",
    "        'tilesetUid': pickup['trip_distance'].uuid\n",
    "    }]\n",
    "}\n",
    "\n",
    "# Let's use the diverging color map\n",
    "pickup_amount_dict['tracks']['center'][0]['options']['colorRange'] = colormap\n",
    "\n",
    "# Now we have to recreate the view\n",
    "pickup_amount_by_dist_view = View.from_dict(pickup_amount_dict)\n",
    "\n",
    "# And the same thing again for the dropoffs\n",
    "dropoff_amount_dict = dropoff_amount_view.to_dict()\n",
    "pickup_amount_dict['tracks']['center'][0]['options']['name'] = 'Dropoffs: Amount by Distance'\n",
    "dropoff_amount_dict['tracks']['center'][0]['server'] = server.api_address\n",
    "dropoff_amount_dict['tracks']['center'][0]['data'] = {\n",
    "    'type': 'divided',\n",
    "    'children': [{\n",
    "        'server': server.api_address,\n",
    "        'tilesetUid': dropoff['total_amount'].uuid\n",
    "    }, {\n",
    "        'server': server.api_address,\n",
    "        'tilesetUid': dropoff['trip_distance'].uuid\n",
    "    }]\n",
    "}\n",
    "dropoff_amount_dict['tracks']['center'][0]['options']['colorRange'] = colormap\n",
    "dropoff_amount_by_dist_view = View.from_dict(dropoff_amount_dict)\n",
    "\n",
    "# Finally, we need to create a new view config and pass that into the widget\n",
    "HiGlassDisplay(viewconf=ViewConf([\n",
    "        pickup_amount_by_dist_view,\n",
    "        dropoff_amount_by_dist_view\n",
    "    ],\n",
    "    location_syncs=[(\n",
    "        pickup_amount_by_dist_view,\n",
    "        dropoff_amount_by_dist_view\n",
    "    )],\n",
    "    zoom_syncs=[(\n",
    "        pickup_amount_by_dist_view,\n",
    "        dropoff_amount_by_dist_view\n",
    "    )]\n",
    ").to_dict())"
   ]
  },
  {
   "cell_type": "markdown",
   "metadata": {},
   "source": [
    "### Superimpose tracks"
   ]
  },
  {
   "cell_type": "code",
   "execution_count": 14,
   "metadata": {},
   "outputs": [
    {
     "data": {
      "application/vnd.jupyter.widget-view+json": {
       "model_id": "bc7929a330724718a80a3acae9dd747d",
       "version_major": 2,
       "version_minor": 0
      },
      "text/plain": [
       "HiGlassDisplay(hg_options={'isDarkTheme': False}, viewconf={'editable': True, 'views': [{'uid': 'T4FGtJa7TQeAD…"
      ]
     },
     "metadata": {},
     "output_type": "display_data"
    }
   ],
   "source": [
    "view_config_together = deepcopy(view_config)\n",
    "view_config_together['width'] = 12\n",
    "\n",
    "## Important change ##########\n",
    "heatmap_track_config = {\n",
    "    'track_type': 'heatmap',\n",
    "    'height': 400,\n",
    "    'options': {\n",
    "        'backgroundColor': 'transparent',\n",
    "        'colorRange': [\n",
    "            'rgba(255, 255, 255, 0.05)',\n",
    "            'rgba(245, 166,  35, 0.4)',\n",
    "            'rgba(208,   2,  27, 0.85)',\n",
    "            'black',\n",
    "        ],\n",
    "    }\n",
    "}\n",
    "mapbox_track_config = {\n",
    "    'track_type': 'mapbox',\n",
    "    'position': 'center',\n",
    "    'height': 400,\n",
    "    'options': {\n",
    "        'accessToken': 'pk.eyJ1IjoiZmxla3NjaGFzIiwiYSI6ImNqZXB2aWd4NDBmZTIzM3BjdGZudTFob2oifQ.Jnmp1xWJyS4_lRhzrZAFBQ',\n",
    "        'style': 'light-v9',\n",
    "        'minPos': [1],\n",
    "        'maxPos': [40075016],\n",
    "        'name': '© Mapbox',\n",
    "        'labelPosition': 'bottomLeft',\n",
    "    }\n",
    "}\n",
    "##############################\n",
    "\n",
    "pickups_only = View(\n",
    "    tracks=[\n",
    "        Track(**mapbox_track_config),\n",
    "        Track(tileset=dropoff['count'], **heatmap_track_config),\n",
    "    ],\n",
    "    **view_config_together\n",
    ")\n",
    "\n",
    "widget, server, viewconf = display([pickups_only])\n",
    "\n",
    "widget"
   ]
  },
  {
   "cell_type": "markdown",
   "metadata": {},
   "source": [
    "### Finally... let's turn the lights off"
   ]
  },
  {
   "cell_type": "code",
   "execution_count": 15,
   "metadata": {},
   "outputs": [
    {
     "data": {
      "application/vnd.jupyter.widget-view+json": {
       "model_id": "723a6b58987c4e168d0d326ca8f9ab83",
       "version_major": 2,
       "version_minor": 0
      },
      "text/plain": [
       "HiGlassDisplay(hg_options={'isDarkTheme': True}, viewconf={'editable': True, 'views': [{'uid': 'ejyuAf-fQgWhcO…"
      ]
     },
     "metadata": {},
     "output_type": "display_data"
    }
   ],
   "source": [
    "heatmap_track_config = {\n",
    "    'track_type': 'heatmap',\n",
    "    'height': 400,\n",
    "    'options': {\n",
    "        'backgroundColor': 'transparent',\n",
    "        ## Important change ##########\n",
    "        'colorRange': [\n",
    "            'rgba(0, 0, 0, 0.01)',\n",
    "            'rgba(34, 46, 84, 0.25)',\n",
    "            'rgba(68, 141, 178, 0.5)',\n",
    "            'rgba(104, 191, 48, 0.7)',\n",
    "            'rgba(253, 255, 84, 0.8)',\n",
    "            'rgba(253, 255, 255, 0.9)',\n",
    "        ],\n",
    "        ##############################\n",
    "        'colorbarBackgroundColor': 'black',\n",
    "        'colorbarBackgroundOpacity': 0.5,\n",
    "        'labelColor': '#ffffff',\n",
    "        'labelTextOpacity': 0.66,\n",
    "        'labelBackgroundColor': 'black',\n",
    "        'labelBackgroundOpacity': 0.5,\n",
    "    }\n",
    "}\n",
    "mapbox_track_config = {\n",
    "    'track_type': 'mapbox',\n",
    "    'position': 'center',\n",
    "    'height': 400,\n",
    "    'options': {\n",
    "        'accessToken': 'pk.eyJ1IjoiZmxla3NjaGFzIiwiYSI6ImNqZXB2aWd4NDBmZTIzM3BjdGZudTFob2oifQ.Jnmp1xWJyS4_lRhzrZAFBQ',\n",
    "        'style': 'dark-v8',\n",
    "        'minPos': [1],\n",
    "        'maxPos': [40075016],\n",
    "        'name': '© Mapbox',\n",
    "        'labelPosition': 'bottomLeft',\n",
    "        'labelColor': '#ffffff',\n",
    "        'labelTextOpacity': 0.66,\n",
    "        'labelBackgroundColor': 'black',\n",
    "        'labelBackgroundOpacity': 0.5,\n",
    "    }\n",
    "}\n",
    "\n",
    "pickups_in_dark = View(\n",
    "    tracks=[\n",
    "        Track(**mapbox_track_config),\n",
    "        Track(tileset=dropoff['count'], **heatmap_track_config),\n",
    "    ],\n",
    "    **view_config_together\n",
    ")\n",
    "\n",
    "## Important change ##########\n",
    "widget, server, viewconf = display([pickups_in_dark], dark_mode=True)\n",
    "##############################\n",
    "\n",
    "widget"
   ]
  },
  {
   "cell_type": "code",
   "execution_count": null,
   "metadata": {},
   "outputs": [],
   "source": []
  }
 ],
 "metadata": {
  "kernelspec": {
   "display_name": "Python 3",
   "language": "python",
   "name": "python3"
  },
  "language_info": {
   "codemirror_mode": {
    "name": "ipython",
    "version": 3
   },
   "file_extension": ".py",
   "mimetype": "text/x-python",
   "name": "python",
   "nbconvert_exporter": "python",
   "pygments_lexer": "ipython3",
   "version": "3.7.3"
  }
 },
 "nbformat": 4,
 "nbformat_minor": 2
}

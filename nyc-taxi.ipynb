{
 "cells": [
  {
   "cell_type": "markdown",
   "metadata": {},
   "source": [
    "# NYC Taxi Rides\n",
    "\n",
    "In this notebook we show some more advanced features that are useful for building composed views, a.k.a., dashboards."
   ]
  },
  {
   "cell_type": "code",
   "execution_count": 1,
   "metadata": {},
   "outputs": [],
   "source": [
    "%load_ext autoreload\n",
    "%autoreload 2"
   ]
  },
  {
   "cell_type": "markdown",
   "metadata": {},
   "source": [
    "### Download the data"
   ]
  },
  {
   "cell_type": "code",
   "execution_count": 2,
   "metadata": {},
   "outputs": [
    {
     "name": "stdout",
     "output_type": "stream",
     "text": [
      "Download nyctaxi-dropoff.count.1m.mcool... done!\n",
      "Download nyctaxi-dropoff.passenger_count.mean.1m.mcool... done!\n",
      "Download nyctaxi-dropoff.tip_amount.mean.1m.mcool... done!\n",
      "Download nyctaxi-dropoff.total_amount.mean.1m.mcool... done!\n",
      "Download nyctaxi-dropoff.trip_distance.mean.1m.mcool... done!\n",
      "Download nyctaxi-pickup.count.1m.mcool... done!\n",
      "Download nyctaxi-pickup.passenger_count.mean.1m.mcool... done!\n",
      "Download nyctaxi-pickup.tip_amount.mean.1m.mcool... done!\n",
      "Download nyctaxi-pickup.total_amount.mean.1m.mcool... done!\n",
      "Download nyctaxi-pickup.trip_distance.mean.1m.mcool... done!\n"
     ]
    }
   ],
   "source": [
    "import pandas as pd\n",
    "from utils import download_file\n",
    "\n",
    "nyc_data = pd.read_csv('data/nyc-taxi.csv')\n",
    "\n",
    "for data in nyc_data.iterrows():\n",
    "    download_file(*data[1])"
   ]
  },
  {
   "cell_type": "markdown",
   "metadata": {},
   "source": [
    "### Create tilesets"
   ]
  },
  {
   "cell_type": "code",
   "execution_count": 13,
   "metadata": {},
   "outputs": [],
   "source": [
    "from higlass.tilesets import cooler\n",
    "\n",
    "dropoff = {\n",
    "    'count': cooler('data/nyctaxi-dropoff.count.1m.mcool', name='Total Dropoffs'),\n",
    "    'passenger_count': cooler('data/nyctaxi-dropoff.passenger_count.1m.mcool', name='Dropoffs Mean Passanger Count'),\n",
    "    'tip_amount': cooler('data/nyctaxi-dropoff.tip_amount.1m.mcool', name='Dropoffs Mean Tip'),\n",
    "    'total_amount': cooler('data/nyctaxi-dropoff.total_amount.1m.mcool', name='Dropoffs Mean Total Fair'),\n",
    "    'trip_distance': cooler('data/nyctaxi-dropoff.trip_distance.1m.mcool', name='Dropoffs Mean Trip Distance'),\n",
    "}\n",
    "pickup = {\n",
    "    'count': cooler('data/nyctaxi-pickup.count.1m.mcool', name='Total Pickups'),\n",
    "    'passenger_count': cooler('data/nyctaxi-pickup.passenger_count.1m.mcool', name='Pickups Mean Passanger Count'),\n",
    "    'tip_amount': cooler('data/nyctaxi-pickup.tip_amount.1m.mcool', name='Pickups Mean Tip'),\n",
    "    'total_amount': cooler('data/nyctaxi-pickup.total_amount.1m.mcool', name='Pickups Mean Total Fair'),\n",
    "    'trip_distance': cooler('data/nyctaxi-pickup.trip_distance.1m.mcool', name='Pickups Mean Trip Distance'),\n",
    "}"
   ]
  },
  {
   "cell_type": "markdown",
   "metadata": {},
   "source": [
    "### Visualize pickups and drop-offs"
   ]
  },
  {
   "cell_type": "code",
   "execution_count": 15,
   "metadata": {},
   "outputs": [],
   "source": [
    "from higlass import display\n",
    "from higlass.client import Track, View\n",
    "\n",
    "nyc_x=[11789206, 11827005]\n",
    "nyc_y=[15044734, 15081957]"
   ]
  },
  {
   "cell_type": "code",
   "execution_count": 16,
   "metadata": {},
   "outputs": [
    {
     "data": {
      "application/vnd.jupyter.widget-view+json": {
       "model_id": "331c2e4b93fb4ed68b60bbe1a111b187",
       "version_major": 2,
       "version_minor": 0
      },
      "text/plain": [
       "HiGlassDisplay(hg_options={'isDarkTheme': False}, viewconf={'editable': True, 'views': [{'uid': 'cFdQllf9RWe5b…"
      ]
     },
     "metadata": {},
     "output_type": "display_data"
    }
   ],
   "source": [
    "pickups_view = View(\n",
    "    x=0,\n",
    "    y=0,\n",
    "    width=6,\n",
    "    initialXDomain=nyc_x,\n",
    "    initialYDomain=nyc_y,\n",
    "    tracks=[Track('heatmap', tileset=pickup['count'], height=400)]\n",
    ")\n",
    "\n",
    "dropoffs_view = View(\n",
    "    x=6,\n",
    "    y=0,\n",
    "    width=6,\n",
    "    initialXDomain=nyc_x,\n",
    "    initialYDomain=nyc_y,\n",
    "    tracks=[Track('heatmap', tileset=dropoff['count'], height=400)]\n",
    ")\n",
    "\n",
    "widget, server, viewconf = display([pickups_view, dropoffs_view])\n",
    "\n",
    "widget"
   ]
  },
  {
   "cell_type": "code",
   "execution_count": 22,
   "metadata": {},
   "outputs": [
    {
     "data": {
      "application/vnd.jupyter.widget-view+json": {
       "model_id": "1729faadf40242e69ff73a542f05d865",
       "version_major": 2,
       "version_minor": 0
      },
      "text/plain": [
       "HiGlassDisplay(hg_options={'isDarkTheme': False}, viewconf={'editable': True, 'views': [{'uid': 'afViICJnTuiku…"
      ]
     },
     "metadata": {},
     "output_type": "display_data"
    }
   ],
   "source": [
    "pickups_view = View(\n",
    "    x=0,\n",
    "    y=0,\n",
    "    width=6,\n",
    "    initialXDomain=nyc_x,\n",
    "    initialYDomain=nyc_y,\n",
    "    tracks=[Track('heatmap', tileset=pickup['count'], height=400)]\n",
    ")\n",
    "\n",
    "dropoffs_view = View(\n",
    "    x=6,\n",
    "    y=0,\n",
    "    width=6,\n",
    "    initialXDomain=nyc_x,\n",
    "    initialYDomain=nyc_y,\n",
    "    tracks=[Track('heatmap', tileset=dropoff['count'], height=400)]\n",
    ")\n",
    "\n",
    "widget, server, viewconf = display(\n",
    "    views=[pickups_view, dropoffs_view],\n",
    "    location_syncs=[(pickups_view, dropoffs_view)],\n",
    "    zoom_syncs=[(pickups_view, dropoffs_view)],\n",
    ")\n",
    "\n",
    "widget"
   ]
  },
  {
   "cell_type": "code",
   "execution_count": null,
   "metadata": {},
   "outputs": [],
   "source": []
  }
 ],
 "metadata": {
  "kernelspec": {
   "display_name": "Python 3",
   "language": "python",
   "name": "python3"
  },
  "language_info": {
   "codemirror_mode": {
    "name": "ipython",
    "version": 3
   },
   "file_extension": ".py",
   "mimetype": "text/x-python",
   "name": "python",
   "nbconvert_exporter": "python",
   "pygments_lexer": "ipython3",
   "version": "3.7.3"
  }
 },
 "nbformat": 4,
 "nbformat_minor": 2
}
